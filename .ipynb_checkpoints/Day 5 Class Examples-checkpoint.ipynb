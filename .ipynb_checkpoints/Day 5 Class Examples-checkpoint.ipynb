{
 "cells": [
  {
   "cell_type": "code",
   "execution_count": 1,
   "metadata": {},
   "outputs": [],
   "source": [
    "import numpy as np\n",
    "\n",
    "np.arange?"
   ]
  },
  {
   "cell_type": "code",
   "execution_count": 2,
   "metadata": {},
   "outputs": [],
   "source": [
    "row_vector = np.arange(1,7)"
   ]
  },
  {
   "cell_type": "code",
   "execution_count": 3,
   "metadata": {},
   "outputs": [
    {
     "data": {
      "text/plain": [
       "array([1, 2, 3, 4, 5, 6])"
      ]
     },
     "execution_count": 3,
     "metadata": {},
     "output_type": "execute_result"
    }
   ],
   "source": [
    "row_vector"
   ]
  },
  {
   "cell_type": "code",
   "execution_count": 4,
   "metadata": {},
   "outputs": [],
   "source": [
    "column_vector = np.arange(11,15)"
   ]
  },
  {
   "cell_type": "code",
   "execution_count": 5,
   "metadata": {},
   "outputs": [
    {
     "data": {
      "text/plain": [
       "array([11, 12, 13, 14])"
      ]
     },
     "execution_count": 5,
     "metadata": {},
     "output_type": "execute_result"
    }
   ],
   "source": [
    "column_vector"
   ]
  },
  {
   "cell_type": "code",
   "execution_count": 10,
   "metadata": {},
   "outputs": [],
   "source": [
    "def dot_product(a, b):\n",
    "    '''\n",
    "    Return the dot product of two numpy arrays of the same length.\n",
    "\n",
    "    Parameters\n",
    "    ----------\n",
    "    a: numpy array with shape (n, )\n",
    "        An array of floating point numbers.\n",
    "    b: numpy array with shape (n, )\n",
    "        An array of floating point numbers.\n",
    "\n",
    "    Returns\n",
    "    -------\n",
    "    dot_prod: float\n",
    "        The dot product of a and b.\n",
    "    '''\n",
    "    arrayA = np.array(a)\n",
    "    arrayB = np.array(b)\n",
    "\n",
    "    return np.sum(arrayA * arrayB)"
   ]
  },
  {
   "cell_type": "code",
   "execution_count": 11,
   "metadata": {},
   "outputs": [
    {
     "data": {
      "text/plain": [
       "8"
      ]
     },
     "execution_count": 11,
     "metadata": {},
     "output_type": "execute_result"
    }
   ],
   "source": [
    "dot_product([1, 2], [2, 3])"
   ]
  },
  {
   "cell_type": "code",
   "execution_count": 16,
   "metadata": {},
   "outputs": [],
   "source": [
    "import numpy as np\n",
    "\n",
    "\n",
    "def mat_inner_product(a, b):\n",
    "    '''\n",
    "    Multiply two numpy arrays, if possible.\n",
    "\n",
    "    Parameters\n",
    "    ----------\n",
    "    X: array, shape (n, m)\n",
    "    Y: array, shape (p, q)\n",
    "\n",
    "    Returns\n",
    "    -------\n",
    "    ret: array, shape (n, q), or False\n",
    "        If the two arrays cannot be multiplied (X times Y), then return False.\n",
    "        Otherwise return the product.\n",
    "    '''\n",
    "\n",
    "    arrayA = np.array(a)\n",
    "    arrayB = np.array(b)\n",
    "\n",
    "    if np.shape(arrayA) != np.shape(arrayB):\n",
    "        return False\n",
    "    else:\n",
    "        return arrayA * arrayB"
   ]
  },
  {
   "cell_type": "code",
   "execution_count": 18,
   "metadata": {},
   "outputs": [
    {
     "data": {
      "text/plain": [
       "False"
      ]
     },
     "execution_count": 18,
     "metadata": {},
     "output_type": "execute_result"
    }
   ],
   "source": [
    "mat_inner_product([1, 2], [2, 3, 1])"
   ]
  },
  {
   "cell_type": "code",
   "execution_count": 22,
   "metadata": {},
   "outputs": [],
   "source": [
    "from scipy.fftpack import fft, ifft\n",
    "import matplotlib.pyplot as plt\n",
    "import numpy as np\n",
    "\n",
    "%matplotlib inline"
   ]
  },
  {
   "cell_type": "code",
   "execution_count": 23,
   "metadata": {},
   "outputs": [],
   "source": [
    "x = np.linspace(0, 4 * np.pi, 1000)"
   ]
  },
  {
   "cell_type": "code",
   "execution_count": 24,
   "metadata": {},
   "outputs": [
    {
     "data": {
      "text/plain": [
       "(1000,)"
      ]
     },
     "execution_count": 24,
     "metadata": {},
     "output_type": "execute_result"
    }
   ],
   "source": [
    "x.shape"
   ]
  },
  {
   "cell_type": "code",
   "execution_count": 25,
   "metadata": {},
   "outputs": [
    {
     "data": {
      "text/plain": [
       "array([ 0.        ,  0.01257895,  0.0251579 ,  0.03773685,  0.0503158 ,\n",
       "        0.06289475,  0.0754737 ,  0.08805265,  0.1006316 ,  0.11321055,\n",
       "        0.1257895 ,  0.13836845,  0.15094739,  0.16352634,  0.17610529,\n",
       "        0.18868424,  0.20126319,  0.21384214,  0.22642109,  0.23900004,\n",
       "        0.25157899,  0.26415794,  0.27673689,  0.28931584,  0.30189479,\n",
       "        0.31447374,  0.32705269,  0.33963164,  0.35221059,  0.36478954,\n",
       "        0.37736849,  0.38994744,  0.40252639,  0.41510534,  0.42768429,\n",
       "        0.44026323,  0.45284218,  0.46542113,  0.47800008,  0.49057903,\n",
       "        0.50315798,  0.51573693,  0.52831588,  0.54089483,  0.55347378,\n",
       "        0.56605273,  0.57863168,  0.59121063,  0.60378958,  0.61636853,\n",
       "        0.62894748,  0.64152643,  0.65410538,  0.66668433,  0.67926328,\n",
       "        0.69184223,  0.70442118,  0.71700013,  0.72957907,  0.74215802,\n",
       "        0.75473697,  0.76731592,  0.77989487,  0.79247382,  0.80505277,\n",
       "        0.81763172,  0.83021067,  0.84278962,  0.85536857,  0.86794752,\n",
       "        0.88052647,  0.89310542,  0.90568437,  0.91826332,  0.93084227,\n",
       "        0.94342122,  0.95600017,  0.96857912,  0.98115807,  0.99373702,\n",
       "        1.00631597,  1.01889491,  1.03147386,  1.04405281,  1.05663176,\n",
       "        1.06921071,  1.08178966,  1.09436861,  1.10694756,  1.11952651,\n",
       "        1.13210546,  1.14468441,  1.15726336,  1.16984231,  1.18242126,\n",
       "        1.19500021,  1.20757916,  1.22015811,  1.23273706,  1.24531601,\n",
       "        1.25789496,  1.27047391,  1.28305286,  1.29563181,  1.30821075,\n",
       "        1.3207897 ,  1.33336865,  1.3459476 ,  1.35852655,  1.3711055 ,\n",
       "        1.38368445,  1.3962634 ,  1.40884235,  1.4214213 ,  1.43400025,\n",
       "        1.4465792 ,  1.45915815,  1.4717371 ,  1.48431605,  1.496895  ,\n",
       "        1.50947395,  1.5220529 ,  1.53463185,  1.5472108 ,  1.55978975,\n",
       "        1.5723687 ,  1.58494765,  1.59752659,  1.61010554,  1.62268449,\n",
       "        1.63526344,  1.64784239,  1.66042134,  1.67300029,  1.68557924,\n",
       "        1.69815819,  1.71073714,  1.72331609,  1.73589504,  1.74847399,\n",
       "        1.76105294,  1.77363189,  1.78621084,  1.79878979,  1.81136874,\n",
       "        1.82394769,  1.83652664,  1.84910559,  1.86168454,  1.87426349,\n",
       "        1.88684243,  1.89942138,  1.91200033,  1.92457928,  1.93715823,\n",
       "        1.94973718,  1.96231613,  1.97489508,  1.98747403,  2.00005298,\n",
       "        2.01263193,  2.02521088,  2.03778983,  2.05036878,  2.06294773,\n",
       "        2.07552668,  2.08810563,  2.10068458,  2.11326353,  2.12584248,\n",
       "        2.13842143,  2.15100038,  2.16357932,  2.17615827,  2.18873722,\n",
       "        2.20131617,  2.21389512,  2.22647407,  2.23905302,  2.25163197,\n",
       "        2.26421092,  2.27678987,  2.28936882,  2.30194777,  2.31452672,\n",
       "        2.32710567,  2.33968462,  2.35226357,  2.36484252,  2.37742147,\n",
       "        2.39000042,  2.40257937,  2.41515832,  2.42773727,  2.44031622,\n",
       "        2.45289516,  2.46547411,  2.47805306,  2.49063201,  2.50321096,\n",
       "        2.51578991,  2.52836886,  2.54094781,  2.55352676,  2.56610571,\n",
       "        2.57868466,  2.59126361,  2.60384256,  2.61642151,  2.62900046,\n",
       "        2.64157941,  2.65415836,  2.66673731,  2.67931626,  2.69189521,\n",
       "        2.70447416,  2.71705311,  2.72963206,  2.742211  ,  2.75478995,\n",
       "        2.7673689 ,  2.77994785,  2.7925268 ,  2.80510575,  2.8176847 ,\n",
       "        2.83026365,  2.8428426 ,  2.85542155,  2.8680005 ,  2.88057945,\n",
       "        2.8931584 ,  2.90573735,  2.9183163 ,  2.93089525,  2.9434742 ,\n",
       "        2.95605315,  2.9686321 ,  2.98121105,  2.99379   ,  3.00636895,\n",
       "        3.0189479 ,  3.03152684,  3.04410579,  3.05668474,  3.06926369,\n",
       "        3.08184264,  3.09442159,  3.10700054,  3.11957949,  3.13215844,\n",
       "        3.14473739,  3.15731634,  3.16989529,  3.18247424,  3.19505319,\n",
       "        3.20763214,  3.22021109,  3.23279004,  3.24536899,  3.25794794,\n",
       "        3.27052689,  3.28310584,  3.29568479,  3.30826374,  3.32084268,\n",
       "        3.33342163,  3.34600058,  3.35857953,  3.37115848,  3.38373743,\n",
       "        3.39631638,  3.40889533,  3.42147428,  3.43405323,  3.44663218,\n",
       "        3.45921113,  3.47179008,  3.48436903,  3.49694798,  3.50952693,\n",
       "        3.52210588,  3.53468483,  3.54726378,  3.55984273,  3.57242168,\n",
       "        3.58500063,  3.59757958,  3.61015852,  3.62273747,  3.63531642,\n",
       "        3.64789537,  3.66047432,  3.67305327,  3.68563222,  3.69821117,\n",
       "        3.71079012,  3.72336907,  3.73594802,  3.74852697,  3.76110592,\n",
       "        3.77368487,  3.78626382,  3.79884277,  3.81142172,  3.82400067,\n",
       "        3.83657962,  3.84915857,  3.86173752,  3.87431647,  3.88689542,\n",
       "        3.89947436,  3.91205331,  3.92463226,  3.93721121,  3.94979016,\n",
       "        3.96236911,  3.97494806,  3.98752701,  4.00010596,  4.01268491,\n",
       "        4.02526386,  4.03784281,  4.05042176,  4.06300071,  4.07557966,\n",
       "        4.08815861,  4.10073756,  4.11331651,  4.12589546,  4.13847441,\n",
       "        4.15105336,  4.16363231,  4.17621126,  4.1887902 ,  4.20136915,\n",
       "        4.2139481 ,  4.22652705,  4.239106  ,  4.25168495,  4.2642639 ,\n",
       "        4.27684285,  4.2894218 ,  4.30200075,  4.3145797 ,  4.32715865,\n",
       "        4.3397376 ,  4.35231655,  4.3648955 ,  4.37747445,  4.3900534 ,\n",
       "        4.40263235,  4.4152113 ,  4.42779025,  4.4403692 ,  4.45294815,\n",
       "        4.4655271 ,  4.47810604,  4.49068499,  4.50326394,  4.51584289,\n",
       "        4.52842184,  4.54100079,  4.55357974,  4.56615869,  4.57873764,\n",
       "        4.59131659,  4.60389554,  4.61647449,  4.62905344,  4.64163239,\n",
       "        4.65421134,  4.66679029,  4.67936924,  4.69194819,  4.70452714,\n",
       "        4.71710609,  4.72968504,  4.74226399,  4.75484294,  4.76742188,\n",
       "        4.78000083,  4.79257978,  4.80515873,  4.81773768,  4.83031663,\n",
       "        4.84289558,  4.85547453,  4.86805348,  4.88063243,  4.89321138,\n",
       "        4.90579033,  4.91836928,  4.93094823,  4.94352718,  4.95610613,\n",
       "        4.96868508,  4.98126403,  4.99384298,  5.00642193,  5.01900088,\n",
       "        5.03157983,  5.04415878,  5.05673772,  5.06931667,  5.08189562,\n",
       "        5.09447457,  5.10705352,  5.11963247,  5.13221142,  5.14479037,\n",
       "        5.15736932,  5.16994827,  5.18252722,  5.19510617,  5.20768512,\n",
       "        5.22026407,  5.23284302,  5.24542197,  5.25800092,  5.27057987,\n",
       "        5.28315882,  5.29573777,  5.30831672,  5.32089567,  5.33347462,\n",
       "        5.34605356,  5.35863251,  5.37121146,  5.38379041,  5.39636936,\n",
       "        5.40894831,  5.42152726,  5.43410621,  5.44668516,  5.45926411,\n",
       "        5.47184306,  5.48442201,  5.49700096,  5.50957991,  5.52215886,\n",
       "        5.53473781,  5.54731676,  5.55989571,  5.57247466,  5.58505361,\n",
       "        5.59763256,  5.61021151,  5.62279046,  5.6353694 ,  5.64794835,\n",
       "        5.6605273 ,  5.67310625,  5.6856852 ,  5.69826415,  5.7108431 ,\n",
       "        5.72342205,  5.736001  ,  5.74857995,  5.7611589 ,  5.77373785,\n",
       "        5.7863168 ,  5.79889575,  5.8114747 ,  5.82405365,  5.8366326 ,\n",
       "        5.84921155,  5.8617905 ,  5.87436945,  5.8869484 ,  5.89952735,\n",
       "        5.9121063 ,  5.92468524,  5.93726419,  5.94984314,  5.96242209,\n",
       "        5.97500104,  5.98757999,  6.00015894,  6.01273789,  6.02531684,\n",
       "        6.03789579,  6.05047474,  6.06305369,  6.07563264,  6.08821159,\n",
       "        6.10079054,  6.11336949,  6.12594844,  6.13852739,  6.15110634,\n",
       "        6.16368529,  6.17626424,  6.18884319,  6.20142214,  6.21400108,\n",
       "        6.22658003,  6.23915898,  6.25173793,  6.26431688,  6.27689583,\n",
       "        6.28947478,  6.30205373,  6.31463268,  6.32721163,  6.33979058,\n",
       "        6.35236953,  6.36494848,  6.37752743,  6.39010638,  6.40268533,\n",
       "        6.41526428,  6.42784323,  6.44042218,  6.45300113,  6.46558008,\n",
       "        6.47815903,  6.49073797,  6.50331692,  6.51589587,  6.52847482,\n",
       "        6.54105377,  6.55363272,  6.56621167,  6.57879062,  6.59136957,\n",
       "        6.60394852,  6.61652747,  6.62910642,  6.64168537,  6.65426432,\n",
       "        6.66684327,  6.67942222,  6.69200117,  6.70458012,  6.71715907,\n",
       "        6.72973802,  6.74231697,  6.75489592,  6.76747487,  6.78005381,\n",
       "        6.79263276,  6.80521171,  6.81779066,  6.83036961,  6.84294856,\n",
       "        6.85552751,  6.86810646,  6.88068541,  6.89326436,  6.90584331,\n",
       "        6.91842226,  6.93100121,  6.94358016,  6.95615911,  6.96873806,\n",
       "        6.98131701,  6.99389596,  7.00647491,  7.01905386,  7.03163281,\n",
       "        7.04421176,  7.05679071,  7.06936965,  7.0819486 ,  7.09452755,\n",
       "        7.1071065 ,  7.11968545,  7.1322644 ,  7.14484335,  7.1574223 ,\n",
       "        7.17000125,  7.1825802 ,  7.19515915,  7.2077381 ,  7.22031705,\n",
       "        7.232896  ,  7.24547495,  7.2580539 ,  7.27063285,  7.2832118 ,\n",
       "        7.29579075,  7.3083697 ,  7.32094865,  7.3335276 ,  7.34610655,\n",
       "        7.35868549,  7.37126444,  7.38384339,  7.39642234,  7.40900129,\n",
       "        7.42158024,  7.43415919,  7.44673814,  7.45931709,  7.47189604,\n",
       "        7.48447499,  7.49705394,  7.50963289,  7.52221184,  7.53479079,\n",
       "        7.54736974,  7.55994869,  7.57252764,  7.58510659,  7.59768554,\n",
       "        7.61026449,  7.62284344,  7.63542239,  7.64800133,  7.66058028,\n",
       "        7.67315923,  7.68573818,  7.69831713,  7.71089608,  7.72347503,\n",
       "        7.73605398,  7.74863293,  7.76121188,  7.77379083,  7.78636978,\n",
       "        7.79894873,  7.81152768,  7.82410663,  7.83668558,  7.84926453,\n",
       "        7.86184348,  7.87442243,  7.88700138,  7.89958033,  7.91215928,\n",
       "        7.92473823,  7.93731717,  7.94989612,  7.96247507,  7.97505402,\n",
       "        7.98763297,  8.00021192,  8.01279087,  8.02536982,  8.03794877,\n",
       "        8.05052772,  8.06310667,  8.07568562,  8.08826457,  8.10084352,\n",
       "        8.11342247,  8.12600142,  8.13858037,  8.15115932,  8.16373827,\n",
       "        8.17631722,  8.18889617,  8.20147512,  8.21405407,  8.22663301,\n",
       "        8.23921196,  8.25179091,  8.26436986,  8.27694881,  8.28952776,\n",
       "        8.30210671,  8.31468566,  8.32726461,  8.33984356,  8.35242251,\n",
       "        8.36500146,  8.37758041,  8.39015936,  8.40273831,  8.41531726,\n",
       "        8.42789621,  8.44047516,  8.45305411,  8.46563306,  8.47821201,\n",
       "        8.49079096,  8.50336991,  8.51594885,  8.5285278 ,  8.54110675,\n",
       "        8.5536857 ,  8.56626465,  8.5788436 ,  8.59142255,  8.6040015 ,\n",
       "        8.61658045,  8.6291594 ,  8.64173835,  8.6543173 ,  8.66689625,\n",
       "        8.6794752 ,  8.69205415,  8.7046331 ,  8.71721205,  8.729791  ,\n",
       "        8.74236995,  8.7549489 ,  8.76752785,  8.7801068 ,  8.79268575,\n",
       "        8.80526469,  8.81784364,  8.83042259,  8.84300154,  8.85558049,\n",
       "        8.86815944,  8.88073839,  8.89331734,  8.90589629,  8.91847524,\n",
       "        8.93105419,  8.94363314,  8.95621209,  8.96879104,  8.98136999,\n",
       "        8.99394894,  9.00652789,  9.01910684,  9.03168579,  9.04426474,\n",
       "        9.05684369,  9.06942264,  9.08200159,  9.09458053,  9.10715948,\n",
       "        9.11973843,  9.13231738,  9.14489633,  9.15747528,  9.17005423,\n",
       "        9.18263318,  9.19521213,  9.20779108,  9.22037003,  9.23294898,\n",
       "        9.24552793,  9.25810688,  9.27068583,  9.28326478,  9.29584373,\n",
       "        9.30842268,  9.32100163,  9.33358058,  9.34615953,  9.35873848,\n",
       "        9.37131743,  9.38389637,  9.39647532,  9.40905427,  9.42163322,\n",
       "        9.43421217,  9.44679112,  9.45937007,  9.47194902,  9.48452797,\n",
       "        9.49710692,  9.50968587,  9.52226482,  9.53484377,  9.54742272,\n",
       "        9.56000167,  9.57258062,  9.58515957,  9.59773852,  9.61031747,\n",
       "        9.62289642,  9.63547537,  9.64805432,  9.66063327,  9.67321221,\n",
       "        9.68579116,  9.69837011,  9.71094906,  9.72352801,  9.73610696,\n",
       "        9.74868591,  9.76126486,  9.77384381,  9.78642276,  9.79900171,\n",
       "        9.81158066,  9.82415961,  9.83673856,  9.84931751,  9.86189646,\n",
       "        9.87447541,  9.88705436,  9.89963331,  9.91221226,  9.92479121,\n",
       "        9.93737016,  9.94994911,  9.96252805,  9.975107  ,  9.98768595,\n",
       "       10.0002649 , 10.01284385, 10.0254228 , 10.03800175, 10.0505807 ,\n",
       "       10.06315965, 10.0757386 , 10.08831755, 10.1008965 , 10.11347545,\n",
       "       10.1260544 , 10.13863335, 10.1512123 , 10.16379125, 10.1763702 ,\n",
       "       10.18894915, 10.2015281 , 10.21410705, 10.226686  , 10.23926495,\n",
       "       10.25184389, 10.26442284, 10.27700179, 10.28958074, 10.30215969,\n",
       "       10.31473864, 10.32731759, 10.33989654, 10.35247549, 10.36505444,\n",
       "       10.37763339, 10.39021234, 10.40279129, 10.41537024, 10.42794919,\n",
       "       10.44052814, 10.45310709, 10.46568604, 10.47826499, 10.49084394,\n",
       "       10.50342289, 10.51600184, 10.52858079, 10.54115973, 10.55373868,\n",
       "       10.56631763, 10.57889658, 10.59147553, 10.60405448, 10.61663343,\n",
       "       10.62921238, 10.64179133, 10.65437028, 10.66694923, 10.67952818,\n",
       "       10.69210713, 10.70468608, 10.71726503, 10.72984398, 10.74242293,\n",
       "       10.75500188, 10.76758083, 10.78015978, 10.79273873, 10.80531768,\n",
       "       10.81789662, 10.83047557, 10.84305452, 10.85563347, 10.86821242,\n",
       "       10.88079137, 10.89337032, 10.90594927, 10.91852822, 10.93110717,\n",
       "       10.94368612, 10.95626507, 10.96884402, 10.98142297, 10.99400192,\n",
       "       11.00658087, 11.01915982, 11.03173877, 11.04431772, 11.05689667,\n",
       "       11.06947562, 11.08205457, 11.09463352, 11.10721246, 11.11979141,\n",
       "       11.13237036, 11.14494931, 11.15752826, 11.17010721, 11.18268616,\n",
       "       11.19526511, 11.20784406, 11.22042301, 11.23300196, 11.24558091,\n",
       "       11.25815986, 11.27073881, 11.28331776, 11.29589671, 11.30847566,\n",
       "       11.32105461, 11.33363356, 11.34621251, 11.35879146, 11.37137041,\n",
       "       11.38394936, 11.3965283 , 11.40910725, 11.4216862 , 11.43426515,\n",
       "       11.4468441 , 11.45942305, 11.472002  , 11.48458095, 11.4971599 ,\n",
       "       11.50973885, 11.5223178 , 11.53489675, 11.5474757 , 11.56005465,\n",
       "       11.5726336 , 11.58521255, 11.5977915 , 11.61037045, 11.6229494 ,\n",
       "       11.63552835, 11.6481073 , 11.66068625, 11.6732652 , 11.68584414,\n",
       "       11.69842309, 11.71100204, 11.72358099, 11.73615994, 11.74873889,\n",
       "       11.76131784, 11.77389679, 11.78647574, 11.79905469, 11.81163364,\n",
       "       11.82421259, 11.83679154, 11.84937049, 11.86194944, 11.87452839,\n",
       "       11.88710734, 11.89968629, 11.91226524, 11.92484419, 11.93742314,\n",
       "       11.95000209, 11.96258104, 11.97515998, 11.98773893, 12.00031788,\n",
       "       12.01289683, 12.02547578, 12.03805473, 12.05063368, 12.06321263,\n",
       "       12.07579158, 12.08837053, 12.10094948, 12.11352843, 12.12610738,\n",
       "       12.13868633, 12.15126528, 12.16384423, 12.17642318, 12.18900213,\n",
       "       12.20158108, 12.21416003, 12.22673898, 12.23931793, 12.25189688,\n",
       "       12.26447582, 12.27705477, 12.28963372, 12.30221267, 12.31479162,\n",
       "       12.32737057, 12.33994952, 12.35252847, 12.36510742, 12.37768637,\n",
       "       12.39026532, 12.40284427, 12.41542322, 12.42800217, 12.44058112,\n",
       "       12.45316007, 12.46573902, 12.47831797, 12.49089692, 12.50347587,\n",
       "       12.51605482, 12.52863377, 12.54121272, 12.55379166, 12.56637061])"
      ]
     },
     "execution_count": 25,
     "metadata": {},
     "output_type": "execute_result"
    }
   ],
   "source": [
    "x"
   ]
  },
  {
   "cell_type": "code",
   "execution_count": 40,
   "metadata": {},
   "outputs": [],
   "source": [
    "y = np.sin(x) + np.sin(2 * x)"
   ]
  },
  {
   "cell_type": "code",
   "execution_count": 46,
   "metadata": {},
   "outputs": [
    {
     "data": {
      "text/plain": [
       "[<matplotlib.lines.Line2D at 0x7f69e0549550>]"
      ]
     },
     "execution_count": 46,
     "metadata": {},
     "output_type": "execute_result"
    },
    {
     "data": {
      "image/png": "[encoded data removed]",
      "text/plain": [
       "<Figure size 432x288 with 1 Axes>"
      ]
     },
     "metadata": {},
     "output_type": "display_data"
    }
   ],
   "source": [
    "plt.plot(x/np.pi, y)"
   ]
  },
  {
   "cell_type": "code",
   "execution_count": 47,
   "metadata": {},
   "outputs": [
    {
     "data": {
      "text/plain": [
       "1000"
      ]
     },
     "execution_count": 47,
     "metadata": {},
     "output_type": "execute_result"
    }
   ],
   "source": [
    "len(y)"
   ]
  },
  {
   "cell_type": "code",
   "execution_count": 48,
   "metadata": {},
   "outputs": [
    {
     "data": {
      "text/plain": [
       "1000"
      ]
     },
     "execution_count": 48,
     "metadata": {},
     "output_type": "execute_result"
    }
   ],
   "source": [
    "len(fft(y))"
   ]
  },
  {
   "cell_type": "code",
   "execution_count": 49,
   "metadata": {},
   "outputs": [
    {
     "data": {
      "text/plain": [
       "array([ 9.63118474e-15+0.00000000e+00j,  2.92764452e-03-9.31895129e-01j,\n",
       "        3.14416126e+00-5.00402222e+02j,  4.75930392e-03-5.04962877e-01j,\n",
       "        6.27131946e+00-4.99029476e+02j, -4.25547739e-02+2.70889823e+00j,\n",
       "       -2.97545910e-02+1.57834312e+00j, -2.55446733e-02+1.16140161e+00j,\n",
       "       -2.34918338e-02+9.34513556e-01j, -2.22990138e-02+7.88456109e-01j,\n",
       "       -2.15318621e-02+6.85154963e-01j, -2.10042623e-02+6.07563877e-01j,\n",
       "       -2.06235749e-02+5.46798128e-01j, -2.03387483e-02+4.97724983e-01j,\n",
       "       -2.01194841e-02+4.57150044e-01j, -1.99467533e-02+4.22969883e-01j,\n",
       "       -1.98080574e-02+3.93736837e-01j, -1.96948821e-02+3.68418476e-01j,\n",
       "       -1.96012497e-02+3.46256644e-01j, -1.95228542e-02+3.26680808e-01j,\n",
       "       -1.94565252e-02+3.09252612e-01j, -1.93998835e-02+2.93629190e-01j,\n",
       "       -1.93511139e-02+2.79538170e-01j, -1.93088102e-02+2.66760217e-01j,\n",
       "       -1.92718693e-02+2.55116567e-01j, -1.92394153e-02+2.44459950e-01j,\n",
       "       -1.92107450e-02+2.34667870e-01j, -1.91852888e-02+2.25637551e-01j,\n",
       "       -1.91625808e-02+2.17282081e-01j, -1.91422372e-02+2.09527433e-01j,\n",
       "       -1.91239390e-02+2.02310143e-01j, -1.91074197e-02+1.95575469e-01j,\n",
       "       -1.90924550e-02+1.89275936e-01j, -1.90788548e-02+1.83370152e-01j,\n",
       "       -1.90664577e-02+1.77821862e-01j, -1.90551251e-02+1.72599164e-01j,\n",
       "       -1.90447383e-02+1.67673875e-01j, -1.90351944e-02+1.63020995e-01j,\n",
       "       -1.90264044e-02+1.58618274e-01j, -1.90182906e-02+1.54445833e-01j,\n",
       "       -1.90107853e-02+1.50485861e-01j, -1.90038290e-02+1.46722351e-01j,\n",
       "       -1.89973691e-02+1.43140871e-01j, -1.89913596e-02+1.39728379e-01j,\n",
       "       -1.89857592e-02+1.36473057e-01j, -1.89805318e-02+1.33364168e-01j,\n",
       "       -1.89756447e-02+1.30391937e-01j, -1.89710691e-02+1.27547445e-01j,\n",
       "       -1.89667789e-02+1.24822536e-01j, -1.89627508e-02+1.22209737e-01j,\n",
       "       -1.89589639e-02+1.19702187e-01j, -1.89553993e-02+1.17293577e-01j,\n",
       "       -1.89520399e-02+1.14978095e-01j, -1.89488702e-02+1.12750374e-01j,\n",
       "       -1.89458761e-02+1.10605457e-01j, -1.89430449e-02+1.08538754e-01j,\n",
       "       -1.89403651e-02+1.06546006e-01j, -1.89378258e-02+1.04623263e-01j,\n",
       "       -1.89354176e-02+1.02766851e-01j, -1.89331315e-02+1.00973347e-01j,\n",
       "       -1.89309594e-02+9.92395643e-02j, -1.89288938e-02+9.75625255e-02j,\n",
       "       -1.89269278e-02+9.59394495e-02j, -1.89250552e-02+9.43677345e-02j,\n",
       "       -1.89232702e-02+9.28449436e-02j, -1.89215672e-02+9.13687922e-02j,\n",
       "       -1.89199415e-02+8.99371361e-02j, -1.89183883e-02+8.85479607e-02j,\n",
       "       -1.89169035e-02+8.71993717e-02j, -1.89154830e-02+8.58895859e-02j,\n",
       "       -1.89141233e-02+8.46169233e-02j, -1.89128208e-02+8.33797996e-02j,\n",
       "       -1.89115724e-02+8.21767199e-02j, -1.89103752e-02+8.10062717e-02j,\n",
       "       -1.89092263e-02+7.98671200e-02j, -1.89081233e-02+7.87580017e-02j,\n",
       "       -1.89070637e-02+7.76777209e-02j, -1.89060453e-02+7.66251444e-02j,\n",
       "       -1.89050659e-02+7.55991978e-02j, -1.89041236e-02+7.45988615e-02j,\n",
       "       -1.89032165e-02+7.36231675e-02j, -1.89023430e-02+7.26711960e-02j,\n",
       "       -1.89015013e-02+7.17420725e-02j, -1.89006899e-02+7.08349648e-02j,\n",
       "       -1.88999075e-02+6.99490810e-02j, -1.88991526e-02+6.90836666e-02j,\n",
       "       -1.88984239e-02+6.82380024e-02j, -1.88977203e-02+6.74114028e-02j,\n",
       "       -1.88970406e-02+6.66032134e-02j, -1.88963838e-02+6.58128094e-02j,\n",
       "       -1.88957488e-02+6.50395941e-02j, -1.88951347e-02+6.42829971e-02j,\n",
       "       -1.88945406e-02+6.35424732e-02j, -1.88939656e-02+6.28175006e-02j,\n",
       "       -1.88934089e-02+6.21075798e-02j, -1.88928697e-02+6.14122328e-02j,\n",
       "       -1.88923474e-02+6.07310012e-02j, -1.88918411e-02+6.00634460e-02j,\n",
       "       -1.88913503e-02+5.94091461e-02j, -1.88908744e-02+5.87676974e-02j,\n",
       "       -1.88904127e-02+5.81387122e-02j, -1.88899647e-02+5.75218182e-02j,\n",
       "       -1.88895298e-02+5.69166578e-02j, -1.88891076e-02+5.63228873e-02j,\n",
       "       -1.88886975e-02+5.57401764e-02j, -1.88882992e-02+5.51682074e-02j,\n",
       "       -1.88879121e-02+5.46066745e-02j, -1.88875358e-02+5.40552837e-02j,\n",
       "       -1.88871699e-02+5.35137517e-02j, -1.88868141e-02+5.29818058e-02j,\n",
       "       -1.88864680e-02+5.24591830e-02j, -1.88861312e-02+5.19456301e-02j,\n",
       "       -1.88858035e-02+5.14409029e-02j, -1.88854844e-02+5.09447658e-02j,\n",
       "       -1.88851737e-02+5.04569917e-02j, -1.88848711e-02+4.99773612e-02j,\n",
       "       -1.88845763e-02+4.95056626e-02j, -1.88842891e-02+4.90416915e-02j,\n",
       "       -1.88840092e-02+4.85852504e-02j, -1.88837363e-02+4.81361485e-02j,\n",
       "       -1.88834702e-02+4.76942014e-02j, -1.88832107e-02+4.72592307e-02j,\n",
       "       -1.88829576e-02+4.68310640e-02j, -1.88827107e-02+4.64095345e-02j,\n",
       "       -1.88824697e-02+4.59944808e-02j, -1.88822345e-02+4.55857466e-02j,\n",
       "       -1.88820049e-02+4.51831807e-02j, -1.88817808e-02+4.47866366e-02j,\n",
       "       -1.88815618e-02+4.43959724e-02j, -1.88813480e-02+4.40110507e-02j,\n",
       "       -1.88811391e-02+4.36317381e-02j, -1.88809350e-02+4.32579056e-02j,\n",
       "       -1.88807355e-02+4.28894279e-02j, -1.88805406e-02+4.25261836e-02j,\n",
       "       -1.88803500e-02+4.21680548e-02j, -1.88801636e-02+4.18149272e-02j,\n",
       "       -1.88799813e-02+4.14666900e-02j, -1.88798031e-02+4.11232353e-02j,\n",
       "       -1.88796287e-02+4.07844586e-02j, -1.88794581e-02+4.04502583e-02j,\n",
       "       -1.88792911e-02+4.01205359e-02j, -1.88791277e-02+3.97951954e-02j,\n",
       "       -1.88789678e-02+3.94741437e-02j, -1.88788112e-02+3.91572903e-02j,\n",
       "       -1.88786579e-02+3.88445472e-02j, -1.88785077e-02+3.85358288e-02j,\n",
       "       -1.88783607e-02+3.82310519e-02j, -1.88782166e-02+3.79301354e-02j,\n",
       "       -1.88780755e-02+3.76330007e-02j, -1.88779372e-02+3.73395711e-02j,\n",
       "       -1.88778017e-02+3.70497720e-02j, -1.88776689e-02+3.67635308e-02j,\n",
       "       -1.88775388e-02+3.64807766e-02j, -1.88774112e-02+3.62014408e-02j,\n",
       "       -1.88772860e-02+3.59254562e-02j, -1.88771633e-02+3.56527574e-02j,\n",
       "       -1.88770430e-02+3.53832809e-02j, -1.88769250e-02+3.51169645e-02j,\n",
       "       -1.88768092e-02+3.48537478e-02j, -1.88766956e-02+3.45935719e-02j,\n",
       "       -1.88765842e-02+3.43363792e-02j, -1.88764749e-02+3.40821138e-02j,\n",
       "       -1.88763675e-02+3.38307210e-02j, -1.88762622e-02+3.35821474e-02j,\n",
       "       -1.88761588e-02+3.33363411e-02j, -1.88760573e-02+3.30932513e-02j,\n",
       "       -1.88759576e-02+3.28528284e-02j, -1.88758597e-02+3.26150242e-02j,\n",
       "       -1.88757636e-02+3.23797914e-02j, -1.88756692e-02+3.21470839e-02j,\n",
       "       -1.88755765e-02+3.19168568e-02j, -1.88754854e-02+3.16890661e-02j,\n",
       "       -1.88753959e-02+3.14636689e-02j, -1.88753080e-02+3.12406232e-02j,\n",
       "       -1.88752216e-02+3.10198882e-02j, -1.88751367e-02+3.08014237e-02j,\n",
       "       -1.88750533e-02+3.05851906e-02j, -1.88749712e-02+3.03711508e-02j,\n",
       "       -1.88748906e-02+3.01592667e-02j, -1.88748113e-02+2.99495020e-02j,\n",
       "       -1.88747334e-02+2.97418207e-02j, -1.88746568e-02+2.95361881e-02j,\n",
       "       -1.88745814e-02+2.93325699e-02j, -1.88745073e-02+2.91309327e-02j,\n",
       "       -1.88744344e-02+2.89312438e-02j, -1.88743627e-02+2.87334711e-02j,\n",
       "       -1.88742921e-02+2.85375834e-02j, -1.88742228e-02+2.83435500e-02j,\n",
       "       -1.88741545e-02+2.81513409e-02j, -1.88740873e-02+2.79609267e-02j,\n",
       "       -1.88740212e-02+2.77722788e-02j, -1.88739561e-02+2.75853689e-02j,\n",
       "       -1.88738921e-02+2.74001696e-02j, -1.88738291e-02+2.72166537e-02j,\n",
       "       -1.88737671e-02+2.70347949e-02j, -1.88737060e-02+2.68545673e-02j,\n",
       "       -1.88736459e-02+2.66759455e-02j, -1.88735867e-02+2.64989046e-02j,\n",
       "       -1.88735284e-02+2.63234203e-02j, -1.88734710e-02+2.61494687e-02j,\n",
       "       -1.88734145e-02+2.59770265e-02j, -1.88733588e-02+2.58060706e-02j,\n",
       "       -1.88733040e-02+2.56365787e-02j, -1.88732500e-02+2.54685287e-02j,\n",
       "       -1.88731968e-02+2.53018989e-02j, -1.88731444e-02+2.51366683e-02j,\n",
       "       -1.88730928e-02+2.49728160e-02j, -1.88730419e-02+2.48103216e-02j,\n",
       "       -1.88729918e-02+2.46491651e-02j, -1.88729424e-02+2.44893270e-02j,\n",
       "       -1.88728937e-02+2.43307880e-02j, -1.88728458e-02+2.41735292e-02j,\n",
       "       -1.88727985e-02+2.40175322e-02j, -1.88727519e-02+2.38627787e-02j,\n",
       "       -1.88727060e-02+2.37092509e-02j, -1.88726607e-02+2.35569313e-02j,\n",
       "       -1.88726161e-02+2.34058027e-02j, -1.88725721e-02+2.32558483e-02j,\n",
       "       -1.88725287e-02+2.31070514e-02j, -1.88724859e-02+2.29593958e-02j,\n",
       "       -1.88724438e-02+2.28128657e-02j, -1.88724022e-02+2.26674451e-02j,\n",
       "       -1.88723612e-02+2.25231189e-02j, -1.88723207e-02+2.23798717e-02j,\n",
       "       -1.88722808e-02+2.22376889e-02j, -1.88722415e-02+2.20965557e-02j,\n",
       "       -1.88722027e-02+2.19564579e-02j, -1.88721644e-02+2.18173813e-02j,\n",
       "       -1.88721266e-02+2.16793122e-02j, -1.88720894e-02+2.15422368e-02j,\n",
       "       -1.88720526e-02+2.14061418e-02j, -1.88720163e-02+2.12710141e-02j,\n",
       "       -1.88719806e-02+2.11368408e-02j, -1.88719453e-02+2.10036091e-02j,\n",
       "       -1.88719104e-02+2.08713066e-02j, -1.88718760e-02+2.07399210e-02j,\n",
       "       -1.88718421e-02+2.06094402e-02j, -1.88718086e-02+2.04798523e-02j,\n",
       "       -1.88717756e-02+2.03511458e-02j, -1.88717430e-02+2.02233090e-02j,\n",
       "       -1.88717108e-02+2.00963308e-02j, -1.88716790e-02+1.99702000e-02j,\n",
       "       -1.88716476e-02+1.98449057e-02j, -1.88716166e-02+1.97204371e-02j,\n",
       "       -1.88715861e-02+1.95967836e-02j, -1.88715559e-02+1.94739350e-02j,\n",
       "       -1.88715261e-02+1.93518809e-02j, -1.88714967e-02+1.92306112e-02j,\n",
       "       -1.88714676e-02+1.91101161e-02j, -1.88714389e-02+1.89903857e-02j,\n",
       "       -1.88714106e-02+1.88714106e-02j, -1.88713826e-02+1.87531812e-02j,\n",
       "       -1.88713550e-02+1.86356882e-02j, -1.88713277e-02+1.85189225e-02j,\n",
       "       -1.88713008e-02+1.84028750e-02j, -1.88712741e-02+1.82875369e-02j,\n",
       "       -1.88712479e-02+1.81728994e-02j, -1.88712219e-02+1.80589540e-02j,\n",
       "       -1.88711963e-02+1.79456921e-02j, -1.88711709e-02+1.78331053e-02j,\n",
       "       -1.88711459e-02+1.77211856e-02j, -1.88711212e-02+1.76099246e-02j,\n",
       "       -1.88710968e-02+1.74993146e-02j, -1.88710726e-02+1.73893476e-02j,\n",
       "       -1.88710488e-02+1.72800159e-02j, -1.88710252e-02+1.71713118e-02j,\n",
       "       -1.88710020e-02+1.70632278e-02j, -1.88709790e-02+1.69557565e-02j,\n",
       "       -1.88709563e-02+1.68488907e-02j, -1.88709338e-02+1.67426230e-02j,\n",
       "       -1.88709116e-02+1.66369465e-02j, -1.88708897e-02+1.65318542e-02j,\n",
       "       -1.88708680e-02+1.64273390e-02j, -1.88708466e-02+1.63233944e-02j,\n",
       "       -1.88708255e-02+1.62200134e-02j, -1.88708046e-02+1.61171897e-02j,\n",
       "       -1.88707839e-02+1.60149166e-02j, -1.88707635e-02+1.59131877e-02j,\n",
       "       -1.88707433e-02+1.58119967e-02j, -1.88707233e-02+1.57113375e-02j,\n",
       "       -1.88707036e-02+1.56112037e-02j, -1.88706841e-02+1.55115893e-02j,\n",
       "       -1.88706648e-02+1.54124885e-02j, -1.88706458e-02+1.53138952e-02j,\n",
       "       -1.88706269e-02+1.52158036e-02j, -1.88706083e-02+1.51182080e-02j,\n",
       "       -1.88705899e-02+1.50211028e-02j, -1.88705717e-02+1.49244823e-02j,\n",
       "       -1.88705537e-02+1.48283410e-02j, -1.88705359e-02+1.47326735e-02j,\n",
       "       -1.88705183e-02+1.46374744e-02j, -1.88705010e-02+1.45427385e-02j,\n",
       "       -1.88704838e-02+1.44484604e-02j, -1.88704668e-02+1.43546350e-02j,\n",
       "       -1.88704500e-02+1.42612573e-02j, -1.88704334e-02+1.41683221e-02j,\n",
       "       -1.88704169e-02+1.40758246e-02j, -1.88704007e-02+1.39837599e-02j,\n",
       "       -1.88703846e-02+1.38921230e-02j, -1.88703687e-02+1.38009093e-02j,\n",
       "       -1.88703530e-02+1.37101140e-02j, -1.88703375e-02+1.36197324e-02j,\n",
       "       -1.88703221e-02+1.35297601e-02j, -1.88703069e-02+1.34401923e-02j,\n",
       "       -1.88702919e-02+1.33510247e-02j, -1.88702770e-02+1.32622528e-02j,\n",
       "       -1.88702623e-02+1.31738723e-02j, -1.88702478e-02+1.30858788e-02j,\n",
       "       -1.88702334e-02+1.29982681e-02j, -1.88702192e-02+1.29110359e-02j,\n",
       "       -1.88702052e-02+1.28241782e-02j, -1.88701913e-02+1.27376907e-02j,\n",
       "       -1.88701775e-02+1.26515695e-02j, -1.88701639e-02+1.25658105e-02j,\n",
       "       -1.88701505e-02+1.24804097e-02j, -1.88701371e-02+1.23953633e-02j,\n",
       "       -1.88701240e-02+1.23106673e-02j, -1.88701110e-02+1.22263180e-02j,\n",
       "       -1.88700981e-02+1.21423115e-02j, -1.88700854e-02+1.20586442e-02j,\n",
       "       -1.88700728e-02+1.19753123e-02j, -1.88700603e-02+1.18923122e-02j,\n",
       "       -1.88700480e-02+1.18096403e-02j, -1.88700358e-02+1.17272930e-02j,\n",
       "       -1.88700237e-02+1.16452667e-02j, -1.88700118e-02+1.15635581e-02j,\n",
       "       -1.88700000e-02+1.14821636e-02j, -1.88699883e-02+1.14010799e-02j,\n",
       "       -1.88699768e-02+1.13203036e-02j, -1.88699654e-02+1.12398313e-02j,\n",
       "       -1.88699541e-02+1.11596597e-02j, -1.88699429e-02+1.10797857e-02j,\n",
       "       -1.88699319e-02+1.10002059e-02j, -1.88699209e-02+1.09209173e-02j,\n",
       "       -1.88699101e-02+1.08419165e-02j, -1.88698994e-02+1.07632006e-02j,\n",
       "       -1.88698888e-02+1.06847664e-02j, -1.88698784e-02+1.06066109e-02j,\n",
       "       -1.88698680e-02+1.05287311e-02j, -1.88698578e-02+1.04511240e-02j,\n",
       "       -1.88698476e-02+1.03737865e-02j, -1.88698376e-02+1.02967159e-02j,\n",
       "       -1.88698277e-02+1.02199092e-02j, -1.88698179e-02+1.01433636e-02j,\n",
       "       -1.88698082e-02+1.00670761e-02j, -1.88697986e-02+9.99104408e-03j,\n",
       "       -1.88697891e-02+9.91526469e-03j, -1.88697798e-02+9.83973518e-03j,\n",
       "       -1.88697705e-02+9.76445285e-03j, -1.88697613e-02+9.68941501e-03j,\n",
       "       -1.88697522e-02+9.61461897e-03j, -1.88697432e-02+9.54006212e-03j,\n",
       "       -1.88697343e-02+9.46574184e-03j, -1.88697256e-02+9.39165555e-03j,\n",
       "       -1.88697169e-02+9.31780068e-03j, -1.88697083e-02+9.24417469e-03j,\n",
       "       -1.88696998e-02+9.17077509e-03j, -1.88696914e-02+9.09759939e-03j,\n",
       "       -1.88696830e-02+9.02464511e-03j, -1.88696748e-02+8.95190984e-03j,\n",
       "       -1.88696667e-02+8.87939114e-03j, -1.88696586e-02+8.80708663e-03j,\n",
       "       -1.88696507e-02+8.73499394e-03j, -1.88696428e-02+8.66311073e-03j,\n",
       "       -1.88696350e-02+8.59143466e-03j, -1.88696273e-02+8.51996344e-03j,\n",
       "       -1.88696197e-02+8.44869478e-03j, -1.88696122e-02+8.37762642e-03j,\n",
       "       -1.88696048e-02+8.30675611e-03j, -1.88695974e-02+8.23608165e-03j,\n",
       "       -1.88695902e-02+8.16560083e-03j, -1.88695830e-02+8.09531146e-03j,\n",
       "       -1.88695759e-02+8.02521138e-03j, -1.88695688e-02+7.95529846e-03j,\n",
       "       -1.88695619e-02+7.88557057e-03j, -1.88695550e-02+7.81602561e-03j,\n",
       "       -1.88695482e-02+7.74666148e-03j, -1.88695415e-02+7.67747611e-03j,\n",
       "       -1.88695349e-02+7.60846747e-03j, -1.88695283e-02+7.53963351e-03j,\n",
       "       -1.88695218e-02+7.47097221e-03j, -1.88695154e-02+7.40248158e-03j,\n",
       "       -1.88695091e-02+7.33415964e-03j, -1.88695028e-02+7.26600441e-03j,\n",
       "       -1.88694967e-02+7.19801394e-03j, -1.88694905e-02+7.13018631e-03j,\n",
       "       -1.88694845e-02+7.06251959e-03j, -1.88694785e-02+6.99501188e-03j,\n",
       "       -1.88694726e-02+6.92766129e-03j, -1.88694668e-02+6.86046595e-03j,\n",
       "       -1.88694611e-02+6.79342400e-03j, -1.88694554e-02+6.72653359e-03j,\n",
       "       -1.88694497e-02+6.65979289e-03j, -1.88694442e-02+6.59320010e-03j,\n",
       "       -1.88694387e-02+6.52675340e-03j, -1.88694333e-02+6.46045101e-03j,\n",
       "       -1.88694279e-02+6.39429116e-03j, -1.88694227e-02+6.32827208e-03j,\n",
       "       -1.88694174e-02+6.26239203e-03j, -1.88694123e-02+6.19664926e-03j,\n",
       "       -1.88694072e-02+6.13104206e-03j, -1.88694022e-02+6.06556871e-03j,\n",
       "       -1.88693972e-02+6.00022753e-03j, -1.88693923e-02+5.93501681e-03j,\n",
       "       -1.88693875e-02+5.86993489e-03j, -1.88693827e-02+5.80498010e-03j,\n",
       "       -1.88693780e-02+5.74015080e-03j, -1.88693734e-02+5.67544534e-03j,\n",
       "       -1.88693688e-02+5.61086210e-03j, -1.88693643e-02+5.54639945e-03j,\n",
       "       -1.88693598e-02+5.48205579e-03j, -1.88693554e-02+5.41782953e-03j,\n",
       "       -1.88693511e-02+5.35371907e-03j, -1.88693468e-02+5.28972285e-03j,\n",
       "       -1.88693425e-02+5.22583929e-03j, -1.88693384e-02+5.16206684e-03j,\n",
       "       -1.88693343e-02+5.09840396e-03j, -1.88693302e-02+5.03484911e-03j,\n",
       "       -1.88693262e-02+4.97140077e-03j, -1.88693223e-02+4.90805740e-03j,\n",
       "       -1.88693184e-02+4.84481752e-03j, -1.88693146e-02+4.78167961e-03j,\n",
       "       -1.88693108e-02+4.71864219e-03j, -1.88693071e-02+4.65570378e-03j,\n",
       "       -1.88693035e-02+4.59286290e-03j, -1.88692999e-02+4.53011809e-03j,\n",
       "       -1.88692963e-02+4.46746790e-03j, -1.88692928e-02+4.40491087e-03j,\n",
       "       -1.88692894e-02+4.34244556e-03j, -1.88692860e-02+4.28007054e-03j,\n",
       "       -1.88692827e-02+4.21778439e-03j, -1.88692794e-02+4.15558569e-03j,\n",
       "       -1.88692762e-02+4.09347303e-03j, -1.88692730e-02+4.03144501e-03j,\n",
       "       -1.88692699e-02+3.96950023e-03j, -1.88692668e-02+3.90763730e-03j,\n",
       "       -1.88692638e-02+3.84585485e-03j, -1.88692608e-02+3.78415150e-03j,\n",
       "       -1.88692579e-02+3.72252587e-03j, -1.88692551e-02+3.66097662e-03j,\n",
       "       -1.88692523e-02+3.59950238e-03j, -1.88692495e-02+3.53810180e-03j,\n",
       "       -1.88692468e-02+3.47677355e-03j, -1.88692442e-02+3.41551628e-03j,\n",
       "       -1.88692415e-02+3.35432867e-03j, -1.88692390e-02+3.29320939e-03j,\n",
       "       -1.88692365e-02+3.23215712e-03j, -1.88692340e-02+3.17117055e-03j,\n",
       "       -1.88692316e-02+3.11024836e-03j, -1.88692293e-02+3.04938926e-03j,\n",
       "       -1.88692270e-02+2.98859195e-03j, -1.88692247e-02+2.92785513e-03j,\n",
       "       -1.88692225e-02+2.86717753e-03j, -1.88692203e-02+2.80655784e-03j,\n",
       "       -1.88692182e-02+2.74599480e-03j, -1.88692161e-02+2.68548714e-03j,\n",
       "       -1.88692141e-02+2.62503358e-03j, -1.88692121e-02+2.56463285e-03j,\n",
       "       -1.88692102e-02+2.50428371e-03j, -1.88692083e-02+2.44398488e-03j,\n",
       "       -1.88692065e-02+2.38373513e-03j, -1.88692047e-02+2.32353320e-03j,\n",
       "       -1.88692030e-02+2.26337785e-03j, -1.88692013e-02+2.20326783e-03j,\n",
       "       -1.88691997e-02+2.14320191e-03j, -1.88691981e-02+2.08317886e-03j,\n",
       "       -1.88691965e-02+2.02319745e-03j, -1.88691950e-02+1.96325644e-03j,\n",
       "       -1.88691936e-02+1.90335463e-03j, -1.88691922e-02+1.84349078e-03j,\n",
       "       -1.88691908e-02+1.78366368e-03j, -1.88691895e-02+1.72387212e-03j,\n",
       "       -1.88691882e-02+1.66411488e-03j, -1.88691870e-02+1.60439076e-03j,\n",
       "       -1.88691858e-02+1.54469854e-03j, -1.88691846e-02+1.48503704e-03j,\n",
       "       -1.88691836e-02+1.42540504e-03j, -1.88691825e-02+1.36580135e-03j,\n",
       "       -1.88691815e-02+1.30622476e-03j, -1.88691806e-02+1.24667410e-03j,\n",
       "       -1.88691796e-02+1.18714816e-03j, -1.88691788e-02+1.12764575e-03j,\n",
       "       -1.88691780e-02+1.06816569e-03j, -1.88691772e-02+1.00870680e-03j,\n",
       "       -1.88691764e-02+9.49267872e-04j, -1.88691758e-02+8.89847740e-04j,\n",
       "       -1.88691751e-02+8.30445219e-04j, -1.88691745e-02+7.71059128e-04j,\n",
       "       -1.88691740e-02+7.11688287e-04j, -1.88691735e-02+6.52331521e-04j,\n",
       "       -1.88691730e-02+5.92987650e-04j, -1.88691726e-02+5.33655501e-04j,\n",
       "       -1.88691722e-02+4.74333898e-04j, -1.88691719e-02+4.15021667e-04j,\n",
       "       -1.88691716e-02+3.55717635e-04j, -1.88691713e-02+2.96420630e-04j,\n",
       "       -1.88691711e-02+2.37129480e-04j, -1.88691710e-02+1.77843013e-04j,\n",
       "       -1.88691709e-02+1.18560057e-04j, -1.88691708e-02+5.92794434e-05j])"
      ]
     },
     "execution_count": 49,
     "metadata": {},
     "output_type": "execute_result"
    }
   ],
   "source": [
    "fft(y)[:len(y)//2]"
   ]
  },
  {
   "cell_type": "code",
   "execution_count": 31,
   "metadata": {},
   "outputs": [
    {
     "data": {
      "text/plain": [
       "0"
      ]
     },
     "execution_count": 31,
     "metadata": {},
     "output_type": "execute_result"
    }
   ],
   "source": [
    "3 // 5"
   ]
  },
  {
   "cell_type": "code",
   "execution_count": 32,
   "metadata": {},
   "outputs": [
    {
     "data": {
      "text/plain": [
       "0.6"
      ]
     },
     "execution_count": 32,
     "metadata": {},
     "output_type": "execute_result"
    }
   ],
   "source": [
    "3 / 5"
   ]
  },
  {
   "cell_type": "code",
   "execution_count": 33,
   "metadata": {},
   "outputs": [],
   "source": [
    "fft?"
   ]
  },
  {
   "cell_type": "code",
   "execution_count": 50,
   "metadata": {},
   "outputs": [
    {
     "name": "stderr",
     "output_type": "stream",
     "text": [
      "/home/justhinky/anaconda3/lib/python3.6/site-packages/numpy/core/numeric.py:492: ComplexWarning: Casting complex values to real discards the imaginary part\n",
      "  return array(a, dtype, copy=False, order=order)\n"
     ]
    },
    {
     "data": {
      "text/plain": [
       "[<matplotlib.lines.Line2D at 0x7f69e050e240>]"
      ]
     },
     "execution_count": 50,
     "metadata": {},
     "output_type": "execute_result"
    },
    {
     "data": {
      "image/png": "[encoded data removed]",
      "text/plain": [
       "<Figure size 432x288 with 1 Axes>"
      ]
     },
     "metadata": {},
     "output_type": "display_data"
    }
   ],
   "source": [
    "plt.plot(fft(y)[:len(y)//2])"
   ]
  },
  {
   "cell_type": "code",
   "execution_count": 51,
   "metadata": {},
   "outputs": [],
   "source": [
    "from scipy.optimize import minimize"
   ]
  },
  {
   "cell_type": "code",
   "execution_count": 52,
   "metadata": {},
   "outputs": [],
   "source": [
    "minimize?"
   ]
  },
  {
   "cell_type": "code",
   "execution_count": 53,
   "metadata": {},
   "outputs": [],
   "source": [
    "def minimize_me(inputs):\n",
    "    return (inputs ** 2).sum()"
   ]
  },
  {
   "cell_type": "code",
   "execution_count": 54,
   "metadata": {},
   "outputs": [
    {
     "data": {
      "text/plain": [
       "      fun: 5.5866060346492684e-14\n",
       " hess_inv: array([[ 0.84615379, -0.23076925],\n",
       "       [-0.23076925,  0.65384621]])\n",
       "      jac: array([ 3.93864744e-07, -2.67677756e-07])\n",
       "  message: 'Optimization terminated successfully.'\n",
       "     nfev: 16\n",
       "      nit: 3\n",
       "     njev: 4\n",
       "   status: 0\n",
       "  success: True\n",
       "        x: array([ 1.89481791e-07, -1.41289459e-07])"
      ]
     },
     "execution_count": 54,
     "metadata": {},
     "output_type": "execute_result"
    }
   ],
   "source": [
    "minimize(minimize_me, np.array([2.0, 3.0]))"
   ]
  },
  {
   "cell_type": "code",
   "execution_count": 55,
   "metadata": {},
   "outputs": [],
   "source": [
    "def minimize_me(inputs):\n",
    "    return ((inputs - 4) ** 2).sum()"
   ]
  },
  {
   "cell_type": "code",
   "execution_count": 56,
   "metadata": {},
   "outputs": [
    {
     "data": {
      "text/plain": [
       "      fun: 1.7662586114544259e-15\n",
       " hess_inv: array([[ 0.75, -0.25],\n",
       "       [-0.25,  0.75]])\n",
       "      jac: array([-4.4533822e-08, -4.4533822e-08])\n",
       "  message: 'Optimization terminated successfully.'\n",
       "     nfev: 16\n",
       "      nit: 3\n",
       "     njev: 4\n",
       "   status: 0\n",
       "  success: True\n",
       "        x: array([3.99999997, 3.99999997])"
      ]
     },
     "execution_count": 56,
     "metadata": {},
     "output_type": "execute_result"
    }
   ],
   "source": [
    "minimize(minimize_me, np.array([0.0, 0.0]))"
   ]
  },
  {
   "cell_type": "code",
   "execution_count": 57,
   "metadata": {},
   "outputs": [],
   "source": [
    "import sympy"
   ]
  },
  {
   "cell_type": "code",
   "execution_count": 58,
   "metadata": {},
   "outputs": [],
   "source": [
    "sympy.init_printing(use_unicode=True)"
   ]
  },
  {
   "cell_type": "code",
   "execution_count": 60,
   "metadata": {},
   "outputs": [],
   "source": [
    "x, y = sympy.symbols('x y')"
   ]
  },
  {
   "cell_type": "code",
   "execution_count": 61,
   "metadata": {},
   "outputs": [
    {
     "data": {
      "image/png": "[encoded data removed]",
      "text/latex": [
       "$$x$$"
      ],
      "text/plain": [
       "x"
      ]
     },
     "execution_count": 61,
     "metadata": {},
     "output_type": "execute_result"
    }
   ],
   "source": [
    "x"
   ]
  },
  {
   "cell_type": "code",
   "execution_count": 62,
   "metadata": {},
   "outputs": [],
   "source": [
    "f = x ** 2 + y ** 2"
   ]
  },
  {
   "cell_type": "code",
   "execution_count": 63,
   "metadata": {},
   "outputs": [
    {
     "data": {
      "image/png": "[encoded data removed]",
      "text/latex": [
       "$$x^{2} + y^{2}$$"
      ],
      "text/plain": [
       " 2    2\n",
       "x  + y "
      ]
     },
     "execution_count": 63,
     "metadata": {},
     "output_type": "execute_result"
    }
   ],
   "source": [
    "f"
   ]
  },
  {
   "cell_type": "code",
   "execution_count": 64,
   "metadata": {},
   "outputs": [],
   "source": [
    "F = sympy.Integral(f, (x, 0, 4), (y, 0, 3))"
   ]
  },
  {
   "cell_type": "code",
   "execution_count": 65,
   "metadata": {},
   "outputs": [
    {
     "data": {
      "image/png": "[encoded data removed]",
      "text/latex": [
       "$$\\int_{0}^{3}\\int_{0}^{4} \\left(x^{2} + y^{2}\\right)\\, dx\\, dy$$"
      ],
      "text/plain": [
       "3 4                \n",
       "⌠ ⌠                \n",
       "⎮ ⎮ ⎛ 2    2⎞      \n",
       "⎮ ⎮ ⎝x  + y ⎠ dx dy\n",
       "⌡ ⌡                \n",
       "0 0                "
      ]
     },
     "execution_count": 65,
     "metadata": {},
     "output_type": "execute_result"
    }
   ],
   "source": [
    "F"
   ]
  },
  {
   "cell_type": "code",
   "execution_count": 66,
   "metadata": {},
   "outputs": [
    {
     "data": {
      "image/png": "[encoded data removed]",
      "text/latex": [
       "$$100$$"
      ],
      "text/plain": [
       "100"
      ]
     },
     "execution_count": 66,
     "metadata": {},
     "output_type": "execute_result"
    }
   ],
   "source": [
    "F.doit()"
   ]
  },
  {
   "cell_type": "code",
   "execution_count": 68,
   "metadata": {},
   "outputs": [],
   "source": [
    "sympy.Derivative?"
   ]
  },
  {
   "cell_type": "code",
   "execution_count": 69,
   "metadata": {},
   "outputs": [
    {
     "data": {
      "image/png": "[encoded data removed]",
      "text/latex": [
       "$$\\frac{20}{13}$$"
      ],
      "text/plain": [
       "20\n",
       "──\n",
       "13"
      ]
     },
     "execution_count": 69,
     "metadata": {},
     "output_type": "execute_result"
    }
   ],
   "source": [
    "(F / f).subs({x: 4, y: 7}).doit()"
   ]
  },
  {
   "cell_type": "code",
   "execution_count": 70,
   "metadata": {},
   "outputs": [
    {
     "data": {
      "image/png": "[encoded data removed]",
      "text/latex": [
       "$$\\int_{0}^{3}\\int_{0}^{4} \\left(x^{2} + y^{2}\\right)\\, dx\\, dy$$"
      ],
      "text/plain": [
       "3 4                \n",
       "⌠ ⌠                \n",
       "⎮ ⎮ ⎛ 2    2⎞      \n",
       "⎮ ⎮ ⎝x  + y ⎠ dx dy\n",
       "⌡ ⌡                \n",
       "0 0                "
      ]
     },
     "execution_count": 70,
     "metadata": {},
     "output_type": "execute_result"
    }
   ],
   "source": [
    "F"
   ]
  },
  {
   "cell_type": "code",
   "execution_count": 71,
   "metadata": {},
   "outputs": [
    {
     "data": {
      "image/png": "[encoded data removed]",
      "text/latex": [
       "$$x^{2} + y^{2}$$"
      ],
      "text/plain": [
       " 2    2\n",
       "x  + y "
      ]
     },
     "execution_count": 71,
     "metadata": {},
     "output_type": "execute_result"
    }
   ],
   "source": [
    "f"
   ]
  },
  {
   "cell_type": "code",
   "execution_count": 72,
   "metadata": {},
   "outputs": [
    {
     "data": {
      "image/png": "[encoded data removed]",
      "text/latex": [
       "$$\\frac{\\int_{0}^{3}\\int_{0}^{4} \\left(x^{2} + y^{2}\\right)\\, dx\\, dy}{x^{2} + y^{2}}$$"
      ],
      "text/plain": [
       "3 4                \n",
       "⌠ ⌠                \n",
       "⎮ ⎮ ⎛ 2    2⎞      \n",
       "⎮ ⎮ ⎝x  + y ⎠ dx dy\n",
       "⌡ ⌡                \n",
       "0 0                \n",
       "───────────────────\n",
       "       2    2      \n",
       "      x  + y       "
      ]
     },
     "execution_count": 72,
     "metadata": {},
     "output_type": "execute_result"
    }
   ],
   "source": [
    "F / f"
   ]
  },
  {
   "cell_type": "code",
   "execution_count": 230,
   "metadata": {},
   "outputs": [],
   "source": [
    "import sympy as sp\n",
    "import matplotlib.pyplo\n",
    "import numpy as np\n",
    "%matplotlib inline"
   ]
  },
  {
   "cell_type": "code",
   "execution_count": 215,
   "metadata": {},
   "outputs": [],
   "source": [
    "# Define our constants\n",
    "k = 100          # spring constant\n",
    "r_0 = 2.0        # default rest length of spring\n",
    "g = 9.81         # gravity\n",
    "m = 5.0          # mass of ball on string\n",
    "N = 1000\n",
    "\n",
    "# Defines the force of gravity\n",
    "f_g = np.array([0.0, -m * g])     # could make this a 3D array\n",
    "\n",
    "# Define our choice of timesteps\n",
    "dt = .001        # how we want to step through time and see changes\n",
    "\n",
    "# Define our starting position and velocity\n",
    "r = np.array([2.0, -2.0])     # indicates the starting position of the ball\n",
    "v = np.array([0.0, -3.0])     # indicate sthe starting velocity from r\n",
    "                              # code indicates it is falling\n",
    "    \n",
    "    \n",
    "rtime = np.sqrt((r ** 2).sum())\n",
    "\n",
    "ftime = -k * (r - r_0) * (r / rtime)\n",
    "\n",
    "fgravity = np.array([0, -m * g])\n",
    "\n",
    "f = ftime + fgravity\n",
    "\n",
    "velocitytime = v + ((f / m) * dt)\n",
    "\n",
    "positiontime = r + (velocitytime * dt)"
   ]
  },
  {
   "cell_type": "code",
   "execution_count": 190,
   "metadata": {},
   "outputs": [
    {
     "data": {
      "image/png": "[encoded data removed]",
      "text/latex": [
       "$$2.8284271247461903$$"
      ],
      "text/plain": [
       "2.8284271247461903"
      ]
     },
     "execution_count": 190,
     "metadata": {},
     "output_type": "execute_result"
    }
   ],
   "source": [
    "rtime"
   ]
  },
  {
   "cell_type": "code",
   "execution_count": 193,
   "metadata": {},
   "outputs": [
    {
     "data": {
      "text/plain": [
       "array([-0., -0.])"
      ]
     },
     "execution_count": 193,
     "metadata": {},
     "output_type": "execute_result"
    }
   ],
   "source": [
    "ftime"
   ]
  },
  {
   "cell_type": "code",
   "execution_count": 195,
   "metadata": {},
   "outputs": [
    {
     "data": {
      "text/plain": [
       "array([  0.  , -49.05])"
      ]
     },
     "execution_count": 195,
     "metadata": {},
     "output_type": "execute_result"
    }
   ],
   "source": [
    "fgravity"
   ]
  },
  {
   "cell_type": "code",
   "execution_count": 196,
   "metadata": {},
   "outputs": [
    {
     "data": {
      "text/plain": [
       "array([  0.  , -49.05])"
      ]
     },
     "execution_count": 196,
     "metadata": {},
     "output_type": "execute_result"
    }
   ],
   "source": [
    "f"
   ]
  },
  {
   "cell_type": "code",
   "execution_count": 197,
   "metadata": {
    "scrolled": true
   },
   "outputs": [
    {
     "data": {
      "text/plain": [
       "array([ 0.     , -3.00981])"
      ]
     },
     "execution_count": 197,
     "metadata": {},
     "output_type": "execute_result"
    }
   ],
   "source": [
    "velocitytime"
   ]
  },
  {
   "cell_type": "code",
   "execution_count": 198,
   "metadata": {},
   "outputs": [
    {
     "data": {
      "text/plain": [
       "array([2.        , 1.99699019])"
      ]
     },
     "execution_count": 198,
     "metadata": {},
     "output_type": "execute_result"
    }
   ],
   "source": [
    "positiontime"
   ]
  },
  {
   "cell_type": "markdown",
   "metadata": {},
   "source": [
    "# Answer"
   ]
  },
  {
   "cell_type": "code",
   "execution_count": 216,
   "metadata": {},
   "outputs": [],
   "source": [
    "def get_vector_length(vec):\n",
    "    return np.sqrt((vec ** 2).sum())"
   ]
  },
  {
   "cell_type": "code",
   "execution_count": 217,
   "metadata": {},
   "outputs": [],
   "source": [
    "def calculate_string_force(r, k, r_0):\n",
    "    r_mag = get_vector_length(r)\n",
    "    \n",
    "    return -k * (r_mag - r_0) * (r / r_mag)"
   ]
  },
  {
   "cell_type": "code",
   "execution_count": 218,
   "metadata": {},
   "outputs": [],
   "source": [
    "# no longer necessary as we defined f_g variable since it's a constant\n",
    "\n",
    "def calculate_grav_force(m, g):\n",
    "    return np.array([0.0, -m * g])"
   ]
  },
  {
   "cell_type": "code",
   "execution_count": 219,
   "metadata": {},
   "outputs": [],
   "source": [
    "def new_velocity(v, F, m, dt):\n",
    "    return v + F * dt/m"
   ]
  },
  {
   "cell_type": "code",
   "execution_count": 220,
   "metadata": {},
   "outputs": [],
   "source": [
    "def new_position(r, v, dt):\n",
    "    return r + (v * dt)"
   ]
  },
  {
   "cell_type": "code",
   "execution_count": 222,
   "metadata": {},
   "outputs": [],
   "source": [
    "positions = []\n",
    "\n",
    "for i in range(N):\n",
    "    F_s = calculate_string_force(r, k, r_0)\n",
    "    \n",
    "    F = F_s + f_g\n",
    "    \n",
    "    v = new_velocity(v, F, m, dt)\n",
    "    r = new_position(r, v, dt)\n",
    "    \n",
    "    positions.append(r)"
   ]
  },
  {
   "cell_type": "code",
   "execution_count": 237,
   "metadata": {
    "scrolled": false
   },
   "outputs": [
    {
     "data": {
      "text/plain": [
       "[array([ 1.99998828, -2.00299809]),\n",
       " array([ 1.99996483, -2.00599424]),\n",
       " array([ 1.99992962, -2.00898841]),\n",
       " array([ 1.99988263, -2.01198056]),\n",
       " array([ 1.99982385, -2.01497064]),\n",
       " array([ 1.99975324, -2.01795863]),\n",
       " array([ 1.99967079, -2.02094448]),\n",
       " array([ 1.99957649, -2.02392815]),\n",
       " array([ 1.99947031, -2.02690961]),\n",
       " array([ 1.99935222, -2.02988882]),\n",
       " array([ 1.99922222, -2.03286574]),\n",
       " array([ 1.99908029, -2.03584033]),\n",
       " array([ 1.99892639, -2.03881255]),\n",
       " array([ 1.99876052, -2.04178237]),\n",
       " array([ 1.99858266, -2.04474975]),\n",
       " array([ 1.99839279, -2.04771465]),\n",
       " array([ 1.99819088, -2.05067703]),\n",
       " array([ 1.99797693, -2.05363686]),\n",
       " array([ 1.99775091, -2.05659409]),\n",
       " array([ 1.9975128, -2.0595487]),\n",
       " array([ 1.9972626 , -2.06250063]),\n",
       " array([ 1.99700027, -2.06544986]),\n",
       " array([ 1.99672581, -2.06839635]),\n",
       " array([ 1.9964392 , -2.07134006]),\n",
       " array([ 1.99614041, -2.07428096]),\n",
       " array([ 1.99582944, -2.077219  ]),\n",
       " array([ 1.99550627, -2.08015414]),\n",
       " array([ 1.99517088, -2.08308637]),\n",
       " array([ 1.99482325, -2.08601562]),\n",
       " array([ 1.99446337, -2.08894188]),\n",
       " array([ 1.99409122, -2.09186509]),\n",
       " array([ 1.99370679, -2.09478524]),\n",
       " array([ 1.99331007, -2.09770227]),\n",
       " array([ 1.99290103, -2.10061615]),\n",
       " array([ 1.99247966, -2.10352686]),\n",
       " array([ 1.99204595, -2.10643434]),\n",
       " array([ 1.99159989, -2.10933856]),\n",
       " array([ 1.99114145, -2.11223949]),\n",
       " array([ 1.99067063, -2.1151371 ]),\n",
       " array([ 1.99018741, -2.11803133]),\n",
       " array([ 1.98969177, -2.12092217]),\n",
       " array([ 1.98918371, -2.12380958]),\n",
       " array([ 1.98866321, -2.12669351]),\n",
       " array([ 1.98813026, -2.12957393]),\n",
       " array([ 1.98758484, -2.13245081]),\n",
       " array([ 1.98702694, -2.13532411]),\n",
       " array([ 1.98645655, -2.1381938 ]),\n",
       " array([ 1.98587366, -2.14105984]),\n",
       " array([ 1.98527825, -2.1439222 ]),\n",
       " array([ 1.98467031, -2.14678083]),\n",
       " array([ 1.98404983, -2.14963572]),\n",
       " array([ 1.9834168 , -2.15248681]),\n",
       " array([ 1.98277121, -2.15533408]),\n",
       " array([ 1.98211305, -2.15817749]),\n",
       " array([ 1.9814423 , -2.16101701]),\n",
       " array([ 1.98075895, -2.1638526 ]),\n",
       " array([ 1.980063  , -2.16668423]),\n",
       " array([ 1.97935442, -2.16951186]),\n",
       " array([ 1.97863323, -2.17233546]),\n",
       " array([ 1.97789939, -2.175155  ]),\n",
       " array([ 1.97715291, -2.17797043]),\n",
       " array([ 1.97639377, -2.18078174]),\n",
       " array([ 1.97562196, -2.18358888]),\n",
       " array([ 1.97483747, -2.18639181]),\n",
       " array([ 1.97404031, -2.18919052]),\n",
       " array([ 1.97323044, -2.19198495]),\n",
       " array([ 1.97240788, -2.19477509]),\n",
       " array([ 1.9715726 , -2.19756089]),\n",
       " array([ 1.97072461, -2.20034233]),\n",
       " array([ 1.96986388, -2.20311936]),\n",
       " array([ 1.96899042, -2.20589196]),\n",
       " array([ 1.96810422, -2.20866009]),\n",
       " array([ 1.96720527, -2.21142373]),\n",
       " array([ 1.96629356, -2.21418283]),\n",
       " array([ 1.96536908, -2.21693736]),\n",
       " array([ 1.96443183, -2.2196873 ]),\n",
       " array([ 1.9634818 , -2.22243261]),\n",
       " array([ 1.96251899, -2.22517326]),\n",
       " array([ 1.96154338, -2.22790921]),\n",
       " array([ 1.96055498, -2.23064044]),\n",
       " array([ 1.95955377, -2.23336691]),\n",
       " array([ 1.95853975, -2.23608859]),\n",
       " array([ 1.95751291, -2.23880545]),\n",
       " array([ 1.95647326, -2.24151745]),\n",
       " array([ 1.95542078, -2.24422457]),\n",
       " array([ 1.95435546, -2.24692677]),\n",
       " array([ 1.95327731, -2.24962403]),\n",
       " array([ 1.95218632, -2.25231631]),\n",
       " array([ 1.95108249, -2.25500357]),\n",
       " array([ 1.9499658, -2.2576858]),\n",
       " array([ 1.94883627, -2.26036295]),\n",
       " array([ 1.94769387, -2.263035  ]),\n",
       " array([ 1.94653861, -2.26570192]),\n",
       " array([ 1.94537049, -2.26836367]),\n",
       " array([ 1.94418951, -2.27102023]),\n",
       " array([ 1.94299565, -2.27367157]),\n",
       " array([ 1.94178891, -2.27631765]),\n",
       " array([ 1.94056931, -2.27895845]),\n",
       " array([ 1.93933682, -2.28159393]),\n",
       " array([ 1.93809145, -2.28422407]),\n",
       " array([ 1.9368332 , -2.28684883]),\n",
       " array([ 1.93556206, -2.2894682 ]),\n",
       " array([ 1.93427804, -2.29208212]),\n",
       " array([ 1.93298113, -2.29469059]),\n",
       " array([ 1.93167133, -2.29729356]),\n",
       " array([ 1.93034864, -2.29989102]),\n",
       " array([ 1.92901306, -2.30248292]),\n",
       " array([ 1.92766458, -2.30506925]),\n",
       " array([ 1.92630322, -2.30764997]),\n",
       " array([ 1.92492896, -2.31022505]),\n",
       " array([ 1.9235418 , -2.31279447]),\n",
       " array([ 1.92214176, -2.3153582 ]),\n",
       " array([ 1.92072882, -2.31791621]),\n",
       " array([ 1.91930299, -2.32046847]),\n",
       " array([ 1.91786426, -2.32301495]),\n",
       " array([ 1.91641265, -2.32555563]),\n",
       " array([ 1.91494814, -2.32809048]),\n",
       " array([ 1.91347075, -2.33061946]),\n",
       " array([ 1.91198047, -2.33314256]),\n",
       " array([ 1.9104773 , -2.33565975]),\n",
       " array([ 1.90896125, -2.33817099]),\n",
       " array([ 1.90743231, -2.34067627]),\n",
       " array([ 1.9058905 , -2.34317555]),\n",
       " array([ 1.90433581, -2.3456688 ]),\n",
       " array([ 1.90276824, -2.34815601]),\n",
       " array([ 1.9011878 , -2.35063714]),\n",
       " array([ 1.89959449, -2.35311217]),\n",
       " array([ 1.89798832, -2.35558108]),\n",
       " array([ 1.89636928, -2.35804382]),\n",
       " array([ 1.89473738, -2.36050039]),\n",
       " array([ 1.89309263, -2.36295075]),\n",
       " array([ 1.89143502, -2.36539488]),\n",
       " array([ 1.88976457, -2.36783276]),\n",
       " array([ 1.88808127, -2.37026435]),\n",
       " array([ 1.88638514, -2.37268963]),\n",
       " array([ 1.88467617, -2.37510858]),\n",
       " array([ 1.88295437, -2.37752117]),\n",
       " array([ 1.88121974, -2.37992737]),\n",
       " array([ 1.87947229, -2.38232717]),\n",
       " array([ 1.87771203, -2.38472053]),\n",
       " array([ 1.87593896, -2.38710744]),\n",
       " array([ 1.87415309, -2.38948787]),\n",
       " array([ 1.87235442, -2.39186179]),\n",
       " array([ 1.87054296, -2.39422918]),\n",
       " array([ 1.86871872, -2.39659001]),\n",
       " array([ 1.8668817 , -2.39894427]),\n",
       " array([ 1.8650319 , -2.40129193]),\n",
       " array([ 1.86316934, -2.40363296]),\n",
       " array([ 1.86129403, -2.40596735]),\n",
       " array([ 1.85940596, -2.40829506]),\n",
       " array([ 1.85750515, -2.41061607]),\n",
       " array([ 1.8555916 , -2.41293037]),\n",
       " array([ 1.85366533, -2.41523793]),\n",
       " array([ 1.85172634, -2.41753873]),\n",
       " array([ 1.84977464, -2.41983274]),\n",
       " array([ 1.84781023, -2.42211994]),\n",
       " array([ 1.84583313, -2.42440032]),\n",
       " array([ 1.84384334, -2.42667384]),\n",
       " array([ 1.84184087, -2.42894048]),\n",
       " array([ 1.83982574, -2.43120023]),\n",
       " array([ 1.83779795, -2.43345307]),\n",
       " array([ 1.83575751, -2.43569896]),\n",
       " array([ 1.83370443, -2.43793789]),\n",
       " array([ 1.83163872, -2.44016984]),\n",
       " array([ 1.82956038, -2.44239479]),\n",
       " array([ 1.82746944, -2.44461271]),\n",
       " array([ 1.8253659 , -2.44682359]),\n",
       " array([ 1.82324977, -2.44902741]),\n",
       " array([ 1.82112106, -2.45122413]),\n",
       " array([ 1.81897979, -2.45341376]),\n",
       " array([ 1.81682595, -2.45559625]),\n",
       " array([ 1.81465958, -2.4577716 ]),\n",
       " array([ 1.81248066, -2.45993978]),\n",
       " array([ 1.81028923, -2.46210078]),\n",
       " array([ 1.80808528, -2.46425457]),\n",
       " array([ 1.80586884, -2.46640114]),\n",
       " array([ 1.80363991, -2.46854046]),\n",
       " array([ 1.8013985 , -2.47067252]),\n",
       " array([ 1.79914463, -2.4727973 ]),\n",
       " array([ 1.79687831, -2.47491478]),\n",
       " array([ 1.79459956, -2.47702493]),\n",
       " array([ 1.79230838, -2.47912775]),\n",
       " array([ 1.79000479, -2.48122321]),\n",
       " array([ 1.7876888, -2.4833113]),\n",
       " array([ 1.78536043, -2.48539199]),\n",
       " array([ 1.78301969, -2.48746527]),\n",
       " array([ 1.78066659, -2.48953113]),\n",
       " array([ 1.77830115, -2.49158953]),\n",
       " array([ 1.77592338, -2.49364048]),\n",
       " array([ 1.77353329, -2.49568394]),\n",
       " array([ 1.77113091, -2.49771991]),\n",
       " array([ 1.76871624, -2.49974835]),\n",
       " array([ 1.7662893 , -2.50176927]),\n",
       " array([ 1.7638501 , -2.50378264]),\n",
       " array([ 1.76139867, -2.50578844]),\n",
       " array([ 1.75893501, -2.50778666]),\n",
       " array([ 1.75645913, -2.50977729]),\n",
       " array([ 1.75397107, -2.5117603 ]),\n",
       " array([ 1.75147083, -2.51373568]),\n",
       " array([ 1.74895842, -2.51570341]),\n",
       " array([ 1.74643387, -2.51766348]),\n",
       " array([ 1.74389719, -2.51961588]),\n",
       " array([ 1.74134839, -2.52156059]),\n",
       " array([ 1.7387875 , -2.52349758]),\n",
       " array([ 1.73621453, -2.52542686]),\n",
       " array([ 1.73362949, -2.5273484 ]),\n",
       " array([ 1.73103241, -2.52926218]),\n",
       " array([ 1.7284233 , -2.53116821]),\n",
       " array([ 1.72580217, -2.53306645]),\n",
       " array([ 1.72316906, -2.53495689]),\n",
       " array([ 1.72052396, -2.53683953]),\n",
       " array([ 1.71786691, -2.53871435]),\n",
       " array([ 1.71519792, -2.54058133]),\n",
       " array([ 1.71251701, -2.54244046]),\n",
       " array([ 1.70982419, -2.54429173]),\n",
       " array([ 1.70711948, -2.54613512]),\n",
       " array([ 1.70440291, -2.54797062]),\n",
       " array([ 1.7016745 , -2.54979822]),\n",
       " array([ 1.69893425, -2.55161791]),\n",
       " array([ 1.69618219, -2.55342967]),\n",
       " array([ 1.69341834, -2.55523348]),\n",
       " array([ 1.69064272, -2.55702935]),\n",
       " array([ 1.68785535, -2.55881725]),\n",
       " array([ 1.68505624, -2.56059718]),\n",
       " array([ 1.68224543, -2.56236912]),\n",
       " array([ 1.67942292, -2.56413305]),\n",
       " array([ 1.67658874, -2.56588898]),\n",
       " array([ 1.6737429 , -2.56763689]),\n",
       " array([ 1.67088544, -2.56937676]),\n",
       " array([ 1.66801636, -2.57110858]),\n",
       " array([ 1.6651357 , -2.57283235]),\n",
       " array([ 1.66224346, -2.57454806]),\n",
       " array([ 1.65933968, -2.57625569]),\n",
       " array([ 1.65642437, -2.57795523]),\n",
       " array([ 1.65349755, -2.57964668]),\n",
       " array([ 1.65055925, -2.58133001]),\n",
       " array([ 1.64760949, -2.58300523]),\n",
       " array([ 1.64464828, -2.58467233]),\n",
       " array([ 1.64167566, -2.58633129]),\n",
       " array([ 1.63869164, -2.5879821 ]),\n",
       " array([ 1.63569624, -2.58962476]),\n",
       " array([ 1.63268949, -2.59125925]),\n",
       " array([ 1.62967141, -2.59288557]),\n",
       " array([ 1.62664202, -2.59450371]),\n",
       " array([ 1.62360135, -2.59611366]),\n",
       " array([ 1.62054942, -2.59771542]),\n",
       " array([ 1.61748624, -2.59930896]),\n",
       " array([ 1.61441185, -2.60089429]),\n",
       " array([ 1.61132627, -2.6024714 ]),\n",
       " array([ 1.60822951, -2.60404028]),\n",
       " array([ 1.60512161, -2.60560092]),\n",
       " array([ 1.60200259, -2.60715331]),\n",
       " array([ 1.59887247, -2.60869745]),\n",
       " array([ 1.59573127, -2.61023333]),\n",
       " array([ 1.59257902, -2.61176095]),\n",
       " array([ 1.58941575, -2.61328029]),\n",
       " array([ 1.58624147, -2.61479135]),\n",
       " array([ 1.58305621, -2.61629412]),\n",
       " array([ 1.57986  , -2.6177886]),\n",
       " array([ 1.57665287, -2.61927478]),\n",
       " array([ 1.57343482, -2.62075266]),\n",
       " array([ 1.5702059 , -2.62222223]),\n",
       " array([ 1.56696613, -2.62368347]),\n",
       " array([ 1.56371552, -2.6251364 ]),\n",
       " array([ 1.56045411, -2.626581  ]),\n",
       " array([ 1.55718192, -2.62801727]),\n",
       " array([ 1.55389898, -2.62944519]),\n",
       " array([ 1.55060531, -2.63086478]),\n",
       " array([ 1.54730094, -2.63227602]),\n",
       " array([ 1.54398589, -2.63367891]),\n",
       " array([ 1.5406602 , -2.63507344]),\n",
       " array([ 1.53732388, -2.63645961]),\n",
       " array([ 1.53397696, -2.63783741]),\n",
       " array([ 1.53061947, -2.63920685]),\n",
       " array([ 1.52725144, -2.64056791]),\n",
       " array([ 1.52387288, -2.6419206 ]),\n",
       " array([ 1.52048384, -2.64326491]),\n",
       " array([ 1.51708433, -2.64460084]),\n",
       " array([ 1.51367438, -2.64592838]),\n",
       " array([ 1.51025403, -2.64724753]),\n",
       " array([ 1.50682328, -2.6485583 ]),\n",
       " array([ 1.50338219, -2.64986066]),\n",
       " array([ 1.49993076, -2.65115463]),\n",
       " array([ 1.49646903, -2.65244021]),\n",
       " array([ 1.49299702, -2.65371738]),\n",
       " array([ 1.48951477, -2.65498615]),\n",
       " array([ 1.4860223 , -2.65624651]),\n",
       " array([ 1.48251964, -2.65749847]),\n",
       " array([ 1.47900682, -2.65874202]),\n",
       " array([ 1.47548386, -2.65997716]),\n",
       " array([ 1.4719508 , -2.66120389]),\n",
       " array([ 1.46840765, -2.66242221]),\n",
       " array([ 1.46485446, -2.66363211]),\n",
       " array([ 1.46129124, -2.66483361]),\n",
       " array([ 1.45771803, -2.66602668]),\n",
       " array([ 1.45413486, -2.66721135]),\n",
       " array([ 1.45054175, -2.6683876 ]),\n",
       " array([ 1.44693873, -2.66955543]),\n",
       " array([ 1.44332584, -2.67071486]),\n",
       " array([ 1.43970309, -2.67186586]),\n",
       " array([ 1.43607053, -2.67300845]),\n",
       " array([ 1.43242818, -2.67414263]),\n",
       " array([ 1.42877606, -2.6752684 ]),\n",
       " array([ 1.42511421, -2.67638575]),\n",
       " array([ 1.42144266, -2.6774947 ]),\n",
       " array([ 1.41776144, -2.67859523]),\n",
       " array([ 1.41407058, -2.67968735]),\n",
       " array([ 1.4103701 , -2.68077107]),\n",
       " array([ 1.40666004, -2.68184638]),\n",
       " array([ 1.40294042, -2.68291329]),\n",
       " array([ 1.39921128, -2.6839718 ]),\n",
       " array([ 1.39547265, -2.6850219 ]),\n",
       " array([ 1.39172456, -2.68606361]),\n",
       " array([ 1.38796703, -2.68709692]),\n",
       " array([ 1.3842001 , -2.68812184]),\n",
       " array([ 1.3804238 , -2.68913837]),\n",
       " array([ 1.37663816, -2.69014651]),\n",
       " array([ 1.3728432 , -2.69114627]),\n",
       " array([ 1.36903897, -2.69213765]),\n",
       " array([ 1.36522548, -2.69312065]),\n",
       " array([ 1.36140278, -2.69409527]),\n",
       " array([ 1.35757089, -2.69506152]),\n",
       " array([ 1.35372985, -2.69601941]),\n",
       " array([ 1.34987968, -2.69696893]),\n",
       " array([ 1.34602041, -2.69791009]),\n",
       " array([ 1.34215208, -2.69884289]),\n",
       " array([ 1.33827472, -2.69976735]),\n",
       " array([ 1.33438836, -2.70068345]),\n",
       " array([ 1.33049304, -2.70159122]),\n",
       " array([ 1.32658877, -2.70249065]),\n",
       " array([ 1.3226756 , -2.70338174]),\n",
       " array([ 1.31875355, -2.70426451]),\n",
       " array([ 1.31482266, -2.70513895]),\n",
       " array([ 1.31088296, -2.70600508]),\n",
       " array([ 1.30693448, -2.7068629 ]),\n",
       " array([ 1.30297726, -2.70771241]),\n",
       " array([ 1.29901132, -2.70855362]),\n",
       " array([ 1.2950367 , -2.70938653]),\n",
       " array([ 1.29105342, -2.71021116]),\n",
       " array([ 1.28706153, -2.7110275 ]),\n",
       " array([ 1.28306105, -2.71183557]),\n",
       " array([ 1.27905202, -2.71263537]),\n",
       " array([ 1.27503447, -2.7134269 ]),\n",
       " array([ 1.27100842, -2.71421018]),\n",
       " array([ 1.26697392, -2.71498521]),\n",
       " array([ 1.262931, -2.715752]),\n",
       " array([ 1.25887968, -2.71651056]),\n",
       " array([ 1.25482001, -2.71726088]),\n",
       " array([ 1.250752  , -2.71800299]),\n",
       " array([ 1.24667571, -2.71873688]),\n",
       " array([ 1.24259115, -2.71946256]),\n",
       " array([ 1.23849837, -2.72018005]),\n",
       " array([ 1.23439739, -2.72088935]),\n",
       " array([ 1.23028825, -2.72159047]),\n",
       " array([ 1.22617098, -2.72228342]),\n",
       " array([ 1.22204561, -2.7229682 ]),\n",
       " array([ 1.21791218, -2.72364483]),\n",
       " array([ 1.21377072, -2.7243133 ]),\n",
       " array([ 1.20962127, -2.72497364]),\n",
       " array([ 1.20546385, -2.72562585]),\n",
       " array([ 1.2012985 , -2.72626994]),\n",
       " array([ 1.19712525, -2.72690592]),\n",
       " array([ 1.19294414, -2.7275338 ]),\n",
       " array([ 1.1887552 , -2.72815358]),\n",
       " array([ 1.18455847, -2.72876528]),\n",
       " array([ 1.18035397, -2.72936891]),\n",
       " array([ 1.17614174, -2.72996447]),\n",
       " array([ 1.17192181, -2.73055198]),\n",
       " array([ 1.16769422, -2.73113145]),\n",
       " array([ 1.16345901, -2.73170288]),\n",
       " array([ 1.15921619, -2.73226629]),\n",
       " array([ 1.15496582, -2.73282169]),\n",
       " array([ 1.15070792, -2.73336908]),\n",
       " array([ 1.14644252, -2.73390849]),\n",
       " array([ 1.14216967, -2.73443991]),\n",
       " array([ 1.13788938, -2.73496337]),\n",
       " array([ 1.13360171, -2.73547887]),\n",
       " array([ 1.12930668, -2.73598642]),\n",
       " array([ 1.12500432, -2.73648603]),\n",
       " array([ 1.12069467, -2.73697772]),\n",
       " array([ 1.11637777, -2.7374615 ]),\n",
       " array([ 1.11205364, -2.73793738]),\n",
       " array([ 1.10772232, -2.73840537]),\n",
       " array([ 1.10338385, -2.73886548]),\n",
       " array([ 1.09903826, -2.73931772]),\n",
       " array([ 1.09468558, -2.73976212]),\n",
       " array([ 1.09032585, -2.74019867]),\n",
       " array([ 1.0859591, -2.7406274]),\n",
       " array([ 1.08158537, -2.7410483 ]),\n",
       " array([ 1.07720468, -2.74146141]),\n",
       " array([ 1.07281709, -2.74186673]),\n",
       " array([ 1.06842261, -2.74226427]),\n",
       " array([ 1.06402128, -2.74265404]),\n",
       " array([ 1.05961314, -2.74303607]),\n",
       " array([ 1.05519822, -2.74341035]),\n",
       " array([ 1.05077656, -2.74377691]),\n",
       " array([ 1.04634819, -2.74413576]),\n",
       " array([ 1.04191314, -2.74448692]),\n",
       " array([ 1.03747145, -2.74483039]),\n",
       " array([ 1.03302315, -2.74516618]),\n",
       " array([ 1.02856828, -2.74549433]),\n",
       " array([ 1.02410687, -2.74581483]),\n",
       " array([ 1.01963896, -2.7461277 ]),\n",
       " array([ 1.01516458, -2.74643296]),\n",
       " array([ 1.01068377, -2.74673062]),\n",
       " array([ 1.00619655, -2.74702069]),\n",
       " array([ 1.00170296, -2.74730319]),\n",
       " array([ 0.99720305, -2.74757814]),\n",
       " array([ 0.99269684, -2.74784554]),\n",
       " array([ 0.98818436, -2.74810542]),\n",
       " array([ 0.98366566, -2.74835779]),\n",
       " array([ 0.97914076, -2.74860266]),\n",
       " array([ 0.9746097 , -2.74884005]),\n",
       " array([ 0.97007251, -2.74906997]),\n",
       " array([ 0.96552924, -2.74929244]),\n",
       " array([ 0.96097991, -2.74950747]),\n",
       " array([ 0.95642456, -2.74971509]),\n",
       " array([ 0.95186321, -2.7499153 ]),\n",
       " array([ 0.94729592, -2.75010812]),\n",
       " array([ 0.94272271, -2.75029357]),\n",
       " array([ 0.93814361, -2.75047167]),\n",
       " array([ 0.93355866, -2.75064242]),\n",
       " array([ 0.9289679 , -2.75080584]),\n",
       " array([ 0.92437135, -2.75096196]),\n",
       " array([ 0.91976906, -2.75111079]),\n",
       " array([ 0.91516106, -2.75125233]),\n",
       " array([ 0.91054738, -2.75138662]),\n",
       " array([ 0.90592805, -2.75151367]),\n",
       " array([ 0.90130312, -2.75163349]),\n",
       " array([ 0.89667261, -2.7517461 ]),\n",
       " array([ 0.89203656, -2.75185151]),\n",
       " array([ 0.88739501, -2.75194975]),\n",
       " array([ 0.88274798, -2.75204083]),\n",
       " array([ 0.87809551, -2.75212477]),\n",
       " array([ 0.87343764, -2.75220159]),\n",
       " array([ 0.86877441, -2.75227129]),\n",
       " array([ 0.86410583, -2.7523339 ]),\n",
       " array([ 0.85943196, -2.75238945]),\n",
       " array([ 0.85475282, -2.75243793]),\n",
       " array([ 0.85006845, -2.75247938]),\n",
       " array([ 0.84537888, -2.7525138 ]),\n",
       " array([ 0.84068415, -2.75254123]),\n",
       " array([ 0.83598428, -2.75256167]),\n",
       " array([ 0.83127932, -2.75257514]),\n",
       " array([ 0.8265693 , -2.75258166]),\n",
       " array([ 0.82185426, -2.75258125]),\n",
       " array([ 0.81713422, -2.75257392]),\n",
       " array([ 0.81240922, -2.7525597 ]),\n",
       " array([ 0.80767929, -2.7525386 ]),\n",
       " array([ 0.80294447, -2.75251065]),\n",
       " array([ 0.7982048 , -2.75247585]),\n",
       " array([ 0.7934603 , -2.75243423]),\n",
       " array([ 0.78871102, -2.75238581]),\n",
       " array([ 0.78395698, -2.7523306 ]),\n",
       " array([ 0.77919821, -2.75226862]),\n",
       " array([ 0.77443476, -2.7521999 ]),\n",
       " array([ 0.76966666, -2.75212445]),\n",
       " array([ 0.76489393, -2.75204229]),\n",
       " array([ 0.76011662, -2.75195343]),\n",
       " array([ 0.75533476, -2.7518579 ]),\n",
       " array([ 0.75054837, -2.75175572]),\n",
       " array([ 0.7457575 , -2.75164691]),\n",
       " array([ 0.74096218, -2.75153147]),\n",
       " array([ 0.73616244, -2.75140944]),\n",
       " array([ 0.73135832, -2.75128084]),\n",
       " array([ 0.72654985, -2.75114567]),\n",
       " array([ 0.72173705, -2.75100397]),\n",
       " array([ 0.71691998, -2.75085575]),\n",
       " array([ 0.71209865, -2.75070103]),\n",
       " array([ 0.70727311, -2.75053982]),\n",
       " array([ 0.70244338, -2.75037216]),\n",
       " array([ 0.6976095 , -2.75019805]),\n",
       " array([ 0.69277151, -2.75001753]),\n",
       " array([ 0.68792943, -2.7498306 ]),\n",
       " array([ 0.6830833 , -2.74963729]),\n",
       " array([ 0.67823315, -2.74943761]),\n",
       " array([ 0.67337901, -2.74923159]),\n",
       " array([ 0.66852093, -2.74901925]),\n",
       " array([ 0.66365893, -2.74880061]),\n",
       " array([ 0.65879304, -2.74857568]),\n",
       " array([ 0.6539233 , -2.74834449]),\n",
       " array([ 0.64904974, -2.74810706]),\n",
       " array([ 0.64417239, -2.7478634 ]),\n",
       " array([ 0.63929129, -2.74761354]),\n",
       " array([ 0.63440647, -2.7473575 ]),\n",
       " array([ 0.62951795, -2.74709529]),\n",
       " array([ 0.62462579, -2.74682694]),\n",
       " array([ 0.61973   , -2.74655247]),\n",
       " array([ 0.61483062, -2.7462719 ]),\n",
       " array([ 0.60992768, -2.74598525]),\n",
       " array([ 0.60502122, -2.74569253]),\n",
       " array([ 0.60011126, -2.74539378]),\n",
       " array([ 0.59519785, -2.745089  ]),\n",
       " array([ 0.590281  , -2.74477822]),\n",
       " array([ 0.58536076, -2.74446147]),\n",
       " array([ 0.58043716, -2.74413875]),\n",
       " array([ 0.57551023, -2.7438101 ]),\n",
       " array([ 0.57057999, -2.74347552]),\n",
       " array([ 0.56564649, -2.74313505]),\n",
       " array([ 0.56070976, -2.74278871]),\n",
       " array([ 0.55576982, -2.7424365 ]),\n",
       " array([ 0.55082671, -2.74207846]),\n",
       " array([ 0.54588047, -2.74171461]),\n",
       " array([ 0.54093111, -2.74134496]),\n",
       " array([ 0.53597868, -2.74096954]),\n",
       " array([ 0.53102321, -2.74058837]),\n",
       " array([ 0.52606473, -2.74020146]),\n",
       " array([ 0.52110327, -2.73980884]),\n",
       " array([ 0.51613885, -2.73941053]),\n",
       " array([ 0.51117153, -2.73900655]),\n",
       " array([ 0.50620131, -2.73859693]),\n",
       " array([ 0.50122825, -2.73818167]),\n",
       " array([ 0.49625236, -2.73776081]),\n",
       " array([ 0.49127368, -2.73733436]),\n",
       " array([ 0.48629224, -2.73690234]),\n",
       " array([ 0.48130807, -2.73646478]),\n",
       " array([ 0.47632121, -2.7360217 ]),\n",
       " array([ 0.47133168, -2.73557311]),\n",
       " array([ 0.46633951, -2.73511904]),\n",
       " array([ 0.46134474, -2.73465951]),\n",
       " array([ 0.4563474 , -2.73419453]),\n",
       " array([ 0.45134752, -2.73372414]),\n",
       " array([ 0.44634512, -2.73324835]),\n",
       " array([ 0.44134025, -2.73276718]),\n",
       " array([ 0.43633293, -2.73228066]),\n",
       " array([ 0.43132318, -2.7317888 ]),\n",
       " array([ 0.42631105, -2.73129162]),\n",
       " array([ 0.42129656, -2.73078915]),\n",
       " array([ 0.41627975, -2.73028141]),\n",
       " array([ 0.41126063, -2.72976841]),\n",
       " array([ 0.40623926, -2.72925018]),\n",
       " array([ 0.40121564, -2.72872674]),\n",
       " array([ 0.39618982, -2.72819811]),\n",
       " array([ 0.39116183, -2.72766431]),\n",
       " array([ 0.38613169, -2.72712537]),\n",
       " array([ 0.38109943, -2.72658129]),\n",
       " array([ 0.37606509, -2.72603211]),\n",
       " array([ 0.3710287 , -2.72547784]),\n",
       " array([ 0.36599028, -2.72491851]),\n",
       " array([ 0.36094986, -2.72435413]),\n",
       " array([ 0.35590748, -2.72378473]),\n",
       " array([ 0.35086317, -2.72321033]),\n",
       " array([ 0.34581694, -2.72263094]),\n",
       " array([ 0.34076885, -2.7220466 ]),\n",
       " array([ 0.3357189 , -2.72145731]),\n",
       " array([ 0.33066714, -2.7208631 ]),\n",
       " array([ 0.32561359, -2.72026399]),\n",
       " array([ 0.32055828, -2.71966001]),\n",
       " array([ 0.31550125, -2.71905116]),\n",
       " array([ 0.31044251, -2.71843748]),\n",
       " array([ 0.3053821 , -2.71781898]),\n",
       " array([ 0.30032006, -2.71719569]),\n",
       " array([ 0.2952564 , -2.71656762]),\n",
       " array([ 0.29019115, -2.71593479]),\n",
       " array([ 0.28512436, -2.71529723]),\n",
       " array([ 0.28005603, -2.71465495]),\n",
       " array([ 0.27498622, -2.71400798]),\n",
       " array([ 0.26991493, -2.71335634]),\n",
       " array([ 0.2648422 , -2.71270004]),\n",
       " array([ 0.25976807, -2.71203911]),\n",
       " array([ 0.25469255, -2.71137356]),\n",
       " array([ 0.24961568, -2.71070343]),\n",
       " array([ 0.24453749, -2.71002872]),\n",
       " array([ 0.239458  , -2.70934945]),\n",
       " array([ 0.23437724, -2.70866566]),\n",
       " array([ 0.22929525, -2.70797735]),\n",
       " array([ 0.22421204, -2.70728455]),\n",
       " array([ 0.21912765, -2.70658728]),\n",
       " array([ 0.2140421 , -2.70588556]),\n",
       " array([ 0.20895543, -2.7051794 ]),\n",
       " array([ 0.20386766, -2.70446883]),\n",
       " array([ 0.19877882, -2.70375387]),\n",
       " array([ 0.19368893, -2.70303454]),\n",
       " array([ 0.18859804, -2.70231085]),\n",
       " array([ 0.18350615, -2.70158283]),\n",
       " array([ 0.17841331, -2.7008505 ]),\n",
       " array([ 0.17331953, -2.70011387]),\n",
       " array([ 0.16822485, -2.69937297]),\n",
       " array([ 0.16312929, -2.69862781]),\n",
       " array([ 0.15803288, -2.69787842]),\n",
       " array([ 0.15293566, -2.69712481]),\n",
       " array([ 0.14783763, -2.69636701]),\n",
       " array([ 0.14273885, -2.69560503]),\n",
       " array([ 0.13763932, -2.69483889]),\n",
       " array([ 0.13253908, -2.69406861]),\n",
       " array([ 0.12743815, -2.69329421]),\n",
       " array([ 0.12233656, -2.69251571]),\n",
       " array([ 0.11723435, -2.69173313]),\n",
       " array([ 0.11213153, -2.69094649]),\n",
       " array([ 0.10702813, -2.6901558 ]),\n",
       " array([ 0.10192418, -2.68936109]),\n",
       " array([ 0.09681971, -2.68856237]),\n",
       " array([ 0.09171474, -2.68775966]),\n",
       " array([ 0.08660931, -2.68695299]),\n",
       " array([ 0.08150342, -2.68614237]),\n",
       " array([ 0.07639713, -2.68532781]),\n",
       " array([ 0.07129044, -2.68450935]),\n",
       " array([ 0.06618338, -2.68368699]),\n",
       " array([ 0.06107599, -2.68286075]),\n",
       " array([ 0.05596829, -2.68203065]),\n",
       " array([ 0.0508603 , -2.68119672]),\n",
       " array([ 0.04575206, -2.68035896]),\n",
       " array([ 0.04064358, -2.67951741]),\n",
       " array([ 0.0355349 , -2.67867206]),\n",
       " array([ 0.03042603, -2.67782295]),\n",
       " array([ 0.02531702, -2.67697009]),\n",
       " array([ 0.02020787, -2.6761135 ]),\n",
       " array([ 0.01509862, -2.6752532 ]),\n",
       " array([ 0.0099893, -2.6743892]),\n",
       " array([ 0.00487992, -2.67352152]),\n",
       " array([-2.29477335e-04, -2.67265018e+00]),\n",
       " array([-0.00533888, -2.6717752 ]),\n",
       " array([-0.01044825, -2.6708966 ]),\n",
       " array([-0.01555757, -2.67001438]),\n",
       " array([-0.02066681, -2.66912858]),\n",
       " array([-0.02577594, -2.6682392 ]),\n",
       " array([-0.03088495, -2.66734626]),\n",
       " array([-0.0359938 , -2.66644978]),\n",
       " array([-0.04110248, -2.66554979]),\n",
       " array([-0.04621095, -2.66464628]),\n",
       " array([-0.05131918, -2.66373929]),\n",
       " array([-0.05642717, -2.66282882]),\n",
       " array([-0.06153487, -2.6619149 ]),\n",
       " array([-0.06664226, -2.66099754]),\n",
       " array([-0.07174932, -2.66007676]),\n",
       " array([-0.07685603, -2.65915257]),\n",
       " array([-0.08196235, -2.65822499]),\n",
       " array([-0.08706827, -2.65729404]),\n",
       " array([-0.09217376, -2.65635973]),\n",
       " array([-0.09727879, -2.65542208]),\n",
       " array([-0.10238334, -2.65448111]),\n",
       " array([-0.10748738, -2.65353682]),\n",
       " array([-0.1125909 , -2.65258924]),\n",
       " array([-0.11769385, -2.65163839]),\n",
       " array([-0.12279623, -2.65068427]),\n",
       " array([-0.127898 , -2.6497269]),\n",
       " array([-0.13299914, -2.64876631]),\n",
       " array([-0.13809963, -2.64780249]),\n",
       " array([-0.14319944, -2.64683548]),\n",
       " array([-0.14829855, -2.64586529]),\n",
       " array([-0.15339693, -2.64489192]),\n",
       " array([-0.15849456, -2.6439154 ]),\n",
       " array([-0.16359141, -2.64293573]),\n",
       " array([-0.16868746, -2.64195295]),\n",
       " array([-0.17378268, -2.64096705]),\n",
       " array([-0.17887706, -2.63997806]),\n",
       " array([-0.18397056, -2.63898598]),\n",
       " array([-0.18906317, -2.63799084]),\n",
       " array([-0.19415485, -2.63699265]),\n",
       " array([-0.19924559, -2.63599142]),\n",
       " array([-0.20433535, -2.63498716]),\n",
       " array([-0.20942413, -2.6339799 ]),\n",
       " array([-0.21451188, -2.63296964]),\n",
       " array([-0.2195986, -2.6319564]),\n",
       " array([-0.22468424, -2.63094019]),\n",
       " array([-0.2297688 , -2.62992103]),\n",
       " array([-0.23485224, -2.62889893]),\n",
       " array([-0.23993455, -2.6278739 ]),\n",
       " array([-0.24501569, -2.62684596]),\n",
       " array([-0.25009565, -2.62581511]),\n",
       " array([-0.2551744 , -2.62478139]),\n",
       " array([-0.26025191, -2.62374478]),\n",
       " array([-0.26532817, -2.62270532]),\n",
       " array([-0.27040315, -2.62166301]),\n",
       " array([-0.27547682, -2.62061787]),\n",
       " array([-0.28054917, -2.6195699 ]),\n",
       " array([-0.28562016, -2.61851913]),\n",
       " array([-0.29068978, -2.61746556]),\n",
       " array([-0.29575801, -2.6164092 ]),\n",
       " array([-0.3008248 , -2.61535008]),\n",
       " array([-0.30589016, -2.61428819]),\n",
       " array([-0.31095404, -2.61322356]),\n",
       " array([-0.31601643, -2.6121562 ]),\n",
       " array([-0.32107731, -2.61108611]),\n",
       " array([-0.32613664, -2.61001331]),\n",
       " array([-0.33119442, -2.60893781]),\n",
       " array([-0.3362506 , -2.60785963]),\n",
       " array([-0.34130518, -2.60677876]),\n",
       " array([-0.34635812, -2.60569524]),\n",
       " array([-0.35140941, -2.60460906]),\n",
       " array([-0.35645901, -2.60352024]),\n",
       " array([-0.36150692, -2.60242879]),\n",
       " array([-0.36655309, -2.60133473]),\n",
       " array([-0.37159752, -2.60023805]),\n",
       " array([-0.37664017, -2.59913878]),\n",
       " array([-0.38168103, -2.59803692]),\n",
       " array([-0.38672007, -2.59693248]),\n",
       " array([-0.39175726, -2.59582548]),\n",
       " array([-0.39679259, -2.59471593]),\n",
       " array([-0.40182603, -2.59360383]),\n",
       " array([-0.40685756, -2.5924892 ]),\n",
       " array([-0.41188715, -2.59137204]),\n",
       " array([-0.41691478, -2.59025237]),\n",
       " array([-0.42194044, -2.5891302 ]),\n",
       " array([-0.42696408, -2.58800553]),\n",
       " array([-0.4319857 , -2.58687838]),\n",
       " array([-0.43700527, -2.58574876]),\n",
       " array([-0.44202276, -2.58461667]),\n",
       " array([-0.44703815, -2.58348213]),\n",
       " array([-0.45205143, -2.58234514]),\n",
       " array([-0.45706256, -2.58120572]),\n",
       " array([-0.46207152, -2.58006387]),\n",
       " array([-0.46707829, -2.5789196 ]),\n",
       " array([-0.47208285, -2.57777293]),\n",
       " array([-0.47708518, -2.57662385]),\n",
       " array([-0.48208524, -2.57547238]),\n",
       " array([-0.48708303, -2.57431853]),\n",
       " array([-0.49207851, -2.57316231]),\n",
       " array([-0.49707166, -2.57200372]),\n",
       " array([-0.50206245, -2.57084277]),\n",
       " array([-0.50705088, -2.56967948]),\n",
       " array([-0.5120369 , -2.56851384]),\n",
       " array([-0.51702051, -2.56734588]),\n",
       " array([-0.52200167, -2.56617559]),\n",
       " array([-0.52698037, -2.56500298]),\n",
       " array([-0.53195657, -2.56382807]),\n",
       " array([-0.53693027, -2.56265085]),\n",
       " array([-0.54190142, -2.56147134]),\n",
       " array([-0.54687002, -2.56028954]),\n",
       " array([-0.55183604, -2.55910547]),\n",
       " array([-0.55679945, -2.55791913]),\n",
       " array([-0.56176023, -2.55673052]),\n",
       " array([-0.56671836, -2.55553966]),\n",
       " array([-0.57167382, -2.55434654]),\n",
       " array([-0.57662658, -2.55315119]),\n",
       " array([-0.58157662, -2.55195359]),\n",
       " array([-0.58652392, -2.55075377]),\n",
       " array([-0.59146844, -2.54955173]),\n",
       " array([-0.59641018, -2.54834747]),\n",
       " array([-0.60134911, -2.547141  ]),\n",
       " array([-0.6062852 , -2.54593233]),\n",
       " array([-0.61121843, -2.54472146]),\n",
       " array([-0.61614878, -2.5435084 ]),\n",
       " array([-0.62107622, -2.54229316]),\n",
       " array([-0.62600074, -2.54107574]),\n",
       " array([-0.6309223 , -2.53985614]),\n",
       " array([-0.63584088, -2.53863438]),\n",
       " array([-0.64075647, -2.53741046]),\n",
       " array([-0.64566904, -2.53618438]),\n",
       " array([-0.65057856, -2.53495615]),\n",
       " array([-0.65548502, -2.53372578]),\n",
       " array([-0.66038838, -2.53249327]),\n",
       " array([-0.66528863, -2.53125862]),\n",
       " array([-0.67018574, -2.53002184]),\n",
       " array([-0.67507968, -2.52878294]),\n",
       " array([-0.67997045, -2.52754192]),\n",
       " array([-0.684858  , -2.52629879]),\n",
       " array([-0.68974233, -2.52505355]),\n",
       " array([-0.6946234, -2.5238062]),\n",
       " array([-0.69950119, -2.52255675]),\n",
       " array([-0.70437568, -2.52130521]),\n",
       " array([-0.70924685, -2.52005157]),\n",
       " array([-0.71411467, -2.51879585]),\n",
       " array([-0.71897911, -2.51753805]),\n",
       " array([-0.72384016, -2.51627816]),\n",
       " array([-0.7286978 , -2.51501621]),\n",
       " array([-0.73355199, -2.51375218]),\n",
       " array([-0.73840271, -2.51248609]),\n",
       " array([-0.74324994, -2.51121793]),\n",
       " array([-0.74809367, -2.50994771]),\n",
       " array([-0.75293385, -2.50867544]),\n",
       " array([-0.75777048, -2.50740112]),\n",
       " array([-0.76260352, -2.50612475]),\n",
       " array([-0.76743295, -2.50484633]),\n",
       " array([-0.77225876, -2.50356587]),\n",
       " array([-0.7770809 , -2.50228337]),\n",
       " array([-0.78189937, -2.50099884]),\n",
       " array([-0.78671414, -2.49971228]),\n",
       " array([-0.79152518, -2.49842368]),\n",
       " array([-0.79633247, -2.49713306]),\n",
       " array([-0.80113599, -2.49584042]),\n",
       " array([-0.80593571, -2.49454575]),\n",
       " array([-0.81073161, -2.49324907]),\n",
       " array([-0.81552366, -2.49195037]),\n",
       " array([-0.82031185, -2.49064966]),\n",
       " array([-0.82509614, -2.48934694]),\n",
       " array([-0.82987651, -2.48804221]),\n",
       " array([-0.83465294, -2.48673548]),\n",
       " array([-0.83942541, -2.48542674]),\n",
       " array([-0.84419389, -2.484116  ]),\n",
       " array([-0.84895835, -2.48280325]),\n",
       " array([-0.85371878, -2.48148852]),\n",
       " array([-0.85847515, -2.48017178]),\n",
       " array([-0.86322743, -2.47885306]),\n",
       " array([-0.8679756 , -2.47753234]),\n",
       " array([-0.87271963, -2.47620963]),\n",
       " array([-0.87745951, -2.47488493]),\n",
       " array([-0.88219521, -2.47355824]),\n",
       " array([-0.8869267 , -2.47222957]),\n",
       " array([-0.89165395, -2.47089892]),\n",
       " array([-0.89637695, -2.46956628]),\n",
       " array([-0.90109568, -2.46823166]),\n",
       " array([-0.90581009, -2.46689506]),\n",
       " array([-0.91052018, -2.46555648]),\n",
       " array([-0.91522592, -2.46421592]),\n",
       " array([-0.91992727, -2.46287339]),\n",
       " array([-0.92462423, -2.46152888]),\n",
       " array([-0.92931676, -2.46018239]),\n",
       " array([-0.93400483, -2.45883393]),\n",
       " array([-0.93868843, -2.4574835 ]),\n",
       " array([-0.94336753, -2.45613109]),\n",
       " array([-0.94804211, -2.45477671]),\n",
       " array([-0.95271213, -2.45342036]),\n",
       " array([-0.95737758, -2.45206204]),\n",
       " array([-0.96203843, -2.45070175]),\n",
       " array([-0.96669466, -2.44933949]),\n",
       " array([-0.97134624, -2.44797525]),\n",
       " array([-0.97599314, -2.44660905]),\n",
       " array([-0.98063534, -2.44524088]),\n",
       " array([-0.98527282, -2.44387074]),\n",
       " array([-0.98990555, -2.44249863]),\n",
       " array([-0.99453351, -2.44112456]),\n",
       " array([-0.99915667, -2.43974851]),\n",
       " array([-1.003775 , -2.4383705]),\n",
       " array([-1.00838849, -2.43699051]),\n",
       " array([-1.0129971 , -2.43560856]),\n",
       " array([-1.01760081, -2.43422464]),\n",
       " array([-1.0221996 , -2.43283875]),\n",
       " array([-1.02679344, -2.43145089]),\n",
       " array([-1.0313823 , -2.43006105]),\n",
       " array([-1.03596617, -2.42866925]),\n",
       " array([-1.04054501, -2.42727548]),\n",
       " array([-1.04511879, -2.42587974]),\n",
       " array([-1.04968751, -2.42448202]),\n",
       " array([-1.05425112, -2.42308233]),\n",
       " array([-1.0588096 , -2.42168067]),\n",
       " array([-1.06336294, -2.42027704]),\n",
       " array([-1.06791109, -2.41887143]),\n",
       " array([-1.07245404, -2.41746385]),\n",
       " array([-1.07699177, -2.41605429]),\n",
       " array([-1.08152424, -2.41464275]),\n",
       " array([-1.08605143, -2.41322924]),\n",
       " array([-1.09057331, -2.41181375]),\n",
       " array([-1.09508987, -2.41039628]),\n",
       " array([-1.09960107, -2.40897683]),\n",
       " array([-1.10410688, -2.40755539]),\n",
       " array([-1.10860729, -2.40613198]),\n",
       " array([-1.11310226, -2.40470658]),\n",
       " array([-1.11759178, -2.4032792 ]),\n",
       " array([-1.12207581, -2.40184983]),\n",
       " array([-1.12655432, -2.40041848]),\n",
       " array([-1.13102731, -2.39898514]),\n",
       " array([-1.13549472, -2.39754981]),\n",
       " array([-1.13995655, -2.39611248]),\n",
       " array([-1.14441277, -2.39467317]),\n",
       " array([-1.14886334, -2.39323186]),\n",
       " array([-1.15330825, -2.39178856]),\n",
       " array([-1.15774747, -2.39034327]),\n",
       " array([-1.16218096, -2.38889597]),\n",
       " array([-1.16660871, -2.38744668]),\n",
       " array([-1.1710307 , -2.38599539]),\n",
       " array([-1.17544688, -2.3845421 ]),\n",
       " array([-1.17985724, -2.3830868 ]),\n",
       " array([-1.18426175, -2.3816295 ]),\n",
       " array([-1.18866039, -2.38017019]),\n",
       " array([-1.19305312, -2.37870888]),\n",
       " array([-1.19743993, -2.37724555]),\n",
       " array([-1.20182078, -2.37578022]),\n",
       " array([-1.20619565, -2.37431287]),\n",
       " array([-1.21056451, -2.37284351]),\n",
       " array([-1.21492734, -2.37137213]),\n",
       " array([-1.21928411, -2.36989873]),\n",
       " array([-1.2236348 , -2.36842331]),\n",
       " array([-1.22797937, -2.36694588]),\n",
       " array([-1.2323178 , -2.36546642]),\n",
       " array([-1.23665007, -2.36398493]),\n",
       " array([-1.24097615, -2.36250142]),\n",
       " array([-1.245296  , -2.36101589]),\n",
       " array([-1.24960962, -2.35952832]),\n",
       " array([-1.25391696, -2.35803872]),\n",
       " array([-1.258218  , -2.35654708]),\n",
       " array([-1.26251272, -2.35505341]),\n",
       " array([-1.26680109, -2.3535577 ]),\n",
       " array([-1.27108308, -2.35205996]),\n",
       " array([-1.27535866, -2.35056017]),\n",
       " array([-1.27962782, -2.34905834]),\n",
       " array([-1.28389051, -2.34755447]),\n",
       " array([-1.28814672, -2.34604854]),\n",
       " array([-1.29239642, -2.34454057]),\n",
       " array([-1.29663959, -2.34303055]),\n",
       " array([-1.30087618, -2.34151848]),\n",
       " array([-1.30510619, -2.34000435]),\n",
       " array([-1.30932958, -2.33848817]),\n",
       " array([-1.31354632, -2.33696993]),\n",
       " array([-1.31775639, -2.33544962]),\n",
       " array([-1.32195977, -2.33392726]),\n",
       " array([-1.32615641, -2.33240283]),\n",
       " array([-1.33034631, -2.33087634]),\n",
       " array([-1.33452943, -2.32934778]),\n",
       " array([-1.33870574, -2.32781715]),\n",
       " array([-1.34287521, -2.32628445]),\n",
       " array([-1.34703783, -2.32474967]),\n",
       " array([-1.35119356, -2.32321282]),\n",
       " array([-1.35534238, -2.32167389]),\n",
       " array([-1.35948425, -2.32013289]),\n",
       " array([-1.36361916, -2.3185898 ]),\n",
       " array([-1.36774708, -2.31704463]),\n",
       " array([-1.37186797, -2.31549737]),\n",
       " array([-1.37598181, -2.31394803]),\n",
       " array([-1.38008858, -2.3123966 ]),\n",
       " array([-1.38418825, -2.31084308]),\n",
       " array([-1.38828079, -2.30928747]),\n",
       " array([-1.39236617, -2.30772977]),\n",
       " array([-1.39644437, -2.30616996]),\n",
       " array([-1.40051536, -2.30460807]),\n",
       " array([-1.40457911, -2.30304407]),\n",
       " array([-1.40863559, -2.30147797]),\n",
       " array([-1.41268479, -2.29990977]),\n",
       " array([-1.41672667, -2.29833946]),\n",
       " array([-1.4207612 , -2.29676705]),\n",
       " array([-1.42478836, -2.29519253]),\n",
       " array([-1.42880812, -2.2936159 ]),\n",
       " array([-1.43282045, -2.29203716]),\n",
       " array([-1.43682534, -2.29045631]),\n",
       " array([-1.44082274, -2.28887334]),\n",
       " array([-1.44481263, -2.28728826]),\n",
       " array([-1.44879499, -2.28570106]),\n",
       " array([-1.45276979, -2.28411174]),\n",
       " array([-1.456737 , -2.2825203]),\n",
       " array([-1.46069659, -2.28092673]),\n",
       " array([-1.46464854, -2.27933105]),\n",
       " array([-1.46859283, -2.27773324]),\n",
       " array([-1.47252941, -2.2761333 ]),\n",
       " array([-1.47645827, -2.27453123]),\n",
       " array([-1.48037939, -2.27292703]),\n",
       " array([-1.48429272, -2.27132071]),\n",
       " array([-1.48819825, -2.26971225]),\n",
       " array([-1.49209595, -2.26810165]),\n",
       " array([-1.4959858 , -2.26648893]),\n",
       " array([-1.49986775, -2.26487406]),\n",
       " array([-1.5037418 , -2.26325706]),\n",
       " array([-1.50760791, -2.26163792]),\n",
       " array([-1.51146605, -2.26001664]),\n",
       " array([-1.51531619, -2.25839322]),\n",
       " array([-1.51915832, -2.25676766]),\n",
       " array([-1.52299241, -2.25513995]),\n",
       " array([-1.52681842, -2.2535101 ]),\n",
       " array([-1.53063633, -2.25187811]),\n",
       " array([-1.53444611, -2.25024397]),\n",
       " array([-1.53824774, -2.24860768]),\n",
       " array([-1.54204119, -2.24696924]),\n",
       " array([-1.54582643, -2.24532866]),\n",
       " array([-1.54960344, -2.24368593]),\n",
       " array([-1.55337218, -2.24204104]),\n",
       " array([-1.55713264, -2.240394  ]),\n",
       " array([-1.56088479, -2.23874482]),\n",
       " array([-1.5646286 , -2.23709347]),\n",
       " array([-1.56836403, -2.23543998]),\n",
       " array([-1.57209108, -2.23378433]),\n",
       " array([-1.5758097 , -2.23212653]),\n",
       " array([-1.57951988, -2.23046657]),\n",
       " array([-1.58322158, -2.22880446]),\n",
       " array([-1.58691479, -2.22714019]),\n",
       " array([-1.59059946, -2.22547376]),\n",
       " array([-1.59427559, -2.22380518]),\n",
       " array([-1.59794313, -2.22213444]),\n",
       " array([-1.60160207, -2.22046154]),\n",
       " array([-1.60525238, -2.21878648]),\n",
       " array([-1.60889402, -2.21710927]),\n",
       " array([-1.61252699, -2.2154299 ]),\n",
       " array([-1.61615124, -2.21374837]),\n",
       " array([-1.61976675, -2.21206468]),\n",
       " array([-1.6233735 , -2.21037883]),\n",
       " array([-1.62697146, -2.20869083]),\n",
       " array([-1.63056061, -2.20700066]),\n",
       " array([-1.63414091, -2.20530834]),\n",
       " array([-1.63771235, -2.20361386]),\n",
       " array([-1.64127488, -2.20191723]),\n",
       " array([-1.6448285 , -2.20021843]),\n",
       " array([-1.64837318, -2.19851748]),\n",
       " array([-1.65190888, -2.19681437]),\n",
       " array([-1.65543558, -2.19510911]),\n",
       " array([-1.65895326, -2.19340169]),\n",
       " array([-1.66246189, -2.19169211]),\n",
       " array([-1.66596144, -2.18998038]),\n",
       " array([-1.66945189, -2.1882665 ]),\n",
       " array([-1.67293322, -2.18655046]),\n",
       " array([-1.67640539, -2.18483227]),\n",
       " array([-1.67986838, -2.18311193]),\n",
       " array([-1.68332217, -2.18138943]),\n",
       " array([-1.68676673, -2.17966479]),\n",
       " array([-1.69020204, -2.17793799]),\n",
       " array([-1.69362806, -2.17620905]),\n",
       " array([-1.69704478, -2.17447796]),\n",
       " array([-1.70045217, -2.17274473]),\n",
       " array([-1.7038502 , -2.17100935]),\n",
       " array([-1.70723885, -2.16927182]),\n",
       " array([-1.7106181 , -2.16753216]),\n",
       " array([-1.71398791, -2.16579035]),\n",
       " array([-1.71734826, -2.1640464 ]),\n",
       " array([-1.72069914, -2.16230031]),\n",
       " array([-1.7240405 , -2.16055209]),\n",
       " array([-1.72737234, -2.15880173]),\n",
       " array([-1.73069462, -2.15704924]),\n",
       " array([-1.73400731, -2.15529462]),\n",
       " array([-1.7373104 , -2.15353787]),\n",
       " array([-1.74060386, -2.15177898]),\n",
       " array([-1.74388766, -2.15001797]),\n",
       " array([-1.74716179, -2.14825484]),\n",
       " array([-1.7504262 , -2.14648959])]"
      ]
     },
     "execution_count": 237,
     "metadata": {},
     "output_type": "execute_result"
    }
   ],
   "source": [
    "positions"
   ]
  },
  {
   "cell_type": "code",
   "execution_count": 240,
   "metadata": {},
   "outputs": [],
   "source": [
    "positions = np.vstack(positions)"
   ]
  },
  {
   "cell_type": "code",
   "execution_count": 242,
   "metadata": {},
   "outputs": [
    {
     "data": {
      "text/plain": [
       "[<matplotlib.lines.Line2D at 0x7f69d8b43ba8>]"
      ]
     },
     "execution_count": 242,
     "metadata": {},
     "output_type": "execute_result"
    },
    {
     "data": {
      "image/png": "[encoded data removed]",
      "text/plain": [
       "<Figure size 432x288 with 1 Axes>"
      ]
     },
     "metadata": {},
     "output_type": "display_data"
    }
   ],
   "source": [
    "plt.plot(positions[:,0],positions[:,1])"
   ]
  }
 ],
 "metadata": {
  "kernelspec": {
   "display_name": "Python 3",
   "language": "python",
   "name": "python3"
  },
  "language_info": {
   "codemirror_mode": {
    "name": "ipython",
    "version": 3
   },
   "file_extension": ".py",
   "mimetype": "text/x-python",
   "name": "python",
   "nbconvert_exporter": "python",
   "pygments_lexer": "ipython3",
   "version": "3.6.5"
  }
 },
 "nbformat": 4,
 "nbformat_minor": 2
}
