{
 "cells": [
  {
   "cell_type": "markdown",
   "metadata": {},
   "source": [
    "# Instructions\n",
    "\n",
    "Tonight you're going to practice working in Pandas. You'll walk through instantiating a `DataFrame`, reading data into it, looking at and examining that data, and then playing with it. We'll be using the data in the `data` folder located within this directory (it's the same wine data that we looked at during lecture). Typically, we use IPython notebooks like this for a very specific set of things - presentations and EDA. Tonight, as we'll be playing around with `Pandas`, much of what we'll be doing is considered EDA. Therefore, by using a notebook, we'll get a tighter feedback loop with our work than we would trying to write a script. But, in general, **we do not use IPython notebooks for development**. \n",
    "\n",
    "Below, we've put a set of questions and then a cell for you to work on answers. However, feel free to add additional cells if you'd like. Often it will make sense to use more than one cell for your answers. \n",
    "\n",
    "# Assignment Questions \n",
    "\n",
    "### Part 1 - The Basics of DataFrames\n",
    "\n",
    "Let's start off by following the general workflow that we use when moving data into a DataFrame: \n",
    "\n",
    "    * Importing Pandas\n",
    "    * Reading data into the DataFrame\n",
    "    * Getting a general sense of the data\n",
    "\n",
    "So, in terms of what you should do for this part...\n",
    "\n",
    "1. Import pandas\n",
    "2. Read the wine data into a DataFrame. \n",
    "3. Use the `attributes` and `methods` available on DataFrames to answer the following questions: \n",
    "    * How many rows and columns are in the DataFrame?\n",
    "    * What data type is in each column?\n",
    "    * Are all of the variables continuous, or are any categorical?\n",
    "    * How many non-null values are in each column?\n",
    "    * What are the min, mean, max, median for all numeric columns?"
   ]
  },
  {
   "cell_type": "code",
   "execution_count": null,
   "metadata": {
    "collapsed": true
   },
   "outputs": [],
   "source": []
  },
  {
   "cell_type": "markdown",
   "metadata": {},
   "source": [
    "### Part 2 - Practice with Grabbing Data\n",
    "\n",
    "Let's now get some practice with grabbing certain parts of the data. If you'd like some extra practice, try answering each of the questions in more than one way (because remember, we can often grab our data in a couple of different ways). \n",
    "\n",
    "1. Grab the first 10 rows of the `chlorides` column. \n",
    "2. Grab the last 10 rows of the `chlorides` column. \n",
    "3. Grab indices 264-282 of the `chlorides` **and** `density` columns. \n",
    "4. Grab all rows where the `chlorides` value is less than 0.10. \n",
    "5. Now grab all the rows where the `chlorides` value is greater than the column's mean (try **not** to use a hard-coded value for the mean, but instead a method).\n",
    "6. Grab all those rows where the `pH` is greater than 3.0 and less than 3.5. \n",
    "7. Further filter the results from 6 to grab only those rows that have a `residual sugar` less than 2.0. "
   ]
  },
  {
   "cell_type": "code",
   "execution_count": null,
   "metadata": {
    "collapsed": true
   },
   "outputs": [],
   "source": []
  },
  {
   "cell_type": "markdown",
   "metadata": {},
   "source": [
    "### Part 3 - More Practice\n",
    "\n",
    "Let's move on to some more complicated things. Use your knowledge of `groupby`s, `sorting`, and the other things that you learned in lecture to answer the following. \n",
    "\n",
    "1. Get the average amount of `chlorides` for each `quality` value. \n",
    "2. For observations with a `pH` greater than 3.0 and less than 4.0, find the average `alcohol` value by `pH`. \n",
    "3. For observations with an `alcohol` value between 9.25 and 9.5, find the highest amount of `residual sugar`. \n",
    "4. Create a new column, called `total_acidity`, that is the sum of `fixed acidity` and `volatile acidity`. \n",
    "5. Find the average `total_acidity` for each of the `quality` values. \n",
    "6. Find the top 5 `density` values. \n",
    "7. Find the 10 lowest `sulphates` values. "
   ]
  },
  {
   "cell_type": "code",
   "execution_count": null,
   "metadata": {
    "collapsed": true
   },
   "outputs": [],
   "source": []
  },
  {
   "cell_type": "markdown",
   "metadata": {},
   "source": [
    "### Part 4 - Practice with Plotting \n",
    "\n",
    "1. Plot the average amount of `chlorides` for each `quality` value (1 from Part 3). \n",
    "2. Plot the `alcohol` values against `pH` values. Does there appear to be any relationship between the two?\n",
    "3. Plot `total_acidity` values against `pH` values. Does there appear to be any relationship between the two?\n",
    "4. Plot a histogram of the `quality` values. Are they evenly distributed within the data set?\n",
    "5. Plot a boxplot to look at the distribution of `citric acid`. "
   ]
  },
  {
   "cell_type": "code",
   "execution_count": null,
   "metadata": {
    "collapsed": true
   },
   "outputs": [],
   "source": []
  },
  {
   "cell_type": "markdown",
   "metadata": {},
   "source": [
    "### Part 5 - Putting it All Together \n",
    "\n",
    "Now that you've worked on all the basics with one data set, it's time to do it with a second! This time, though, you'll go through the process of downloading the data set yourself. You'll also go through the process of learning to ask questions of the data (i.e. you won't be given any questions). We'll point you to a number of different data sets, and let you go at it. In reality, this is often how data science works. There isn't a clear-cut set of instructions on what to do - you kind of just dive into the data and see what you find!\n",
    "\n",
    "Your goal by the end of `Part 5` is to be able to tell a story with your data. Whether that means you query it and find something interesting, examine a number of different columns and their values, or plot a couple of different columns, it doesn't matter. You should aim to find at least one piece of interesting information in your data (and ideally even more than one). Then, tell your peers and the instructors what you've found! \n",
    "\n",
    "Potential data sources: \n",
    "\n",
    "1. [Forest-fires](http://archive.ics.uci.edu/ml/datasets/Forest+Fires)\n",
    "2. [Iris](http://archive.ics.uci.edu/ml/datasets/Iris)\n",
    "3. [Another wine data set](http://archive.ics.uci.edu/ml/datasets/Wine)\n",
    "4. [Abalone](http://archive.ics.uci.edu/ml/datasets/Abalone)\n",
    "5. [Adult Income data set](http://archive.ics.uci.edu/ml/datasets/Adult)\n",
    "\n",
    "The links above are all to the home pages of these data sources. At the top of these pages, you will find a link the the `Data Folder` where you can actually find the data. The majority of these data sets don't come in `.csv` format. While one of the datasets is available in `.csv` format, we encourage you to pick whatever data set you find most interesting (regardless of the format), and challenge yourself to read the necessary documentation and go through the process of figuring out how to get the data from the web and into a `DataFrame` (the instructors will also be around to help)."
   ]
  },
  {
   "cell_type": "code",
   "execution_count": null,
   "metadata": {
    "collapsed": true
   },
   "outputs": [],
   "source": []
  }
 ],
 "metadata": {
  "kernelspec": {
   "display_name": "Python 3",
   "language": "python",
   "name": "python3"
  },
  "language_info": {
   "codemirror_mode": {
    "name": "ipython",
    "version": 3
   },
   "file_extension": ".py",
   "mimetype": "text/x-python",
   "name": "python",
   "nbconvert_exporter": "python",
   "pygments_lexer": "ipython3",
   "version": "3.6.5"
  }
 },
 "nbformat": 4,
 "nbformat_minor": 1
}
