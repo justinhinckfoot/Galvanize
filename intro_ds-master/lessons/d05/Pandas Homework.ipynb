{
 "cells": [
  {
   "cell_type": "markdown",
   "metadata": {},
   "source": [
    "# Part 1\n",
    "## The basics of DataFrames\n",
    "### For this part you should\n",
    "1. Import Pandas\n",
    "2. Read the wine data into a DataFrame\n",
    "3. Use the attribute and methods available on DataFrames to answer:\n",
    "    - How many rows and columns are in the DataFrame?\n",
    "    - What data type is in each column?\n",
    "    - Are all of the variables continuous, or are any categorical?\n",
    "    - How many non-null values are in each column?\n",
    "    - What are the min, mean, max, median for all numeric columns?"
   ]
  },
  {
   "cell_type": "code",
   "execution_count": 46,
   "metadata": {},
   "outputs": [],
   "source": [
    "import pandas as pd"
   ]
  },
  {
   "cell_type": "code",
   "execution_count": 47,
   "metadata": {},
   "outputs": [],
   "source": [
    "df = pd.read_csv('data/winequality-red.csv',delimiter=';')"
   ]
  },
  {
   "cell_type": "code",
   "execution_count": 48,
   "metadata": {},
   "outputs": [
    {
     "data": {
      "text/plain": [
       "(1599, 12)"
      ]
     },
     "execution_count": 48,
     "metadata": {},
     "output_type": "execute_result"
    }
   ],
   "source": [
    "df.shape"
   ]
  },
  {
   "cell_type": "code",
   "execution_count": 50,
   "metadata": {},
   "outputs": [
    {
     "data": {
      "text/plain": [
       "fixed acidity           float64\n",
       "volatile acidity        float64\n",
       "citric acid             float64\n",
       "residual sugar          float64\n",
       "chlorides               float64\n",
       "free sulfur dioxide     float64\n",
       "total sulfur dioxide    float64\n",
       "density                 float64\n",
       "pH                      float64\n",
       "sulphates               float64\n",
       "alcohol                 float64\n",
       "quality                   int64\n",
       "dtype: object"
      ]
     },
     "execution_count": 50,
     "metadata": {},
     "output_type": "execute_result"
    }
   ],
   "source": [
    "df.dtypes"
   ]
  },
  {
   "cell_type": "code",
   "execution_count": 27,
   "metadata": {},
   "outputs": [
    {
     "data": {
      "text/plain": [
       "fixed acidity           1599\n",
       "volatile acidity        1599\n",
       "citric acid             1599\n",
       "residual sugar          1599\n",
       "chlorides               1599\n",
       "free sulfur dioxide     1599\n",
       "total sulfur dioxide    1599\n",
       "density                 1599\n",
       "pH                      1599\n",
       "sulphates               1599\n",
       "alcohol                 1599\n",
       "quality                 1599\n",
       "dtype: int64"
      ]
     },
     "execution_count": 27,
     "metadata": {},
     "output_type": "execute_result"
    }
   ],
   "source": [
    "df.count()"
   ]
  },
  {
   "cell_type": "code",
   "execution_count": 37,
   "metadata": {},
   "outputs": [
    {
     "data": {
      "text/plain": [
       "fixed acidity           206.720092\n",
       "volatile acidity        200.369610\n",
       "citric acid             200.154472\n",
       "residual sugar          203.256092\n",
       "chlorides               199.999566\n",
       "free sulfur dioxide     217.541885\n",
       "total sulfur dioxide    261.920390\n",
       "density                 200.622822\n",
       "pH                      202.391937\n",
       "sulphates               200.507207\n",
       "alcohol                 208.073581\n",
       "quality                 204.180449\n",
       "dtype: float64"
      ]
     },
     "execution_count": 37,
     "metadata": {},
     "output_type": "execute_result"
    }
   ],
   "source": [
    "df.describe().mean()"
   ]
  },
  {
   "cell_type": "code",
   "execution_count": 38,
   "metadata": {},
   "outputs": [
    {
     "data": {
      "text/plain": [
       "fixed acidity           1.741096\n",
       "volatile acidity        0.120000\n",
       "citric acid             0.000000\n",
       "residual sugar          0.900000\n",
       "chlorides               0.012000\n",
       "free sulfur dioxide     1.000000\n",
       "total sulfur dioxide    6.000000\n",
       "density                 0.001887\n",
       "pH                      0.154386\n",
       "sulphates               0.169507\n",
       "alcohol                 1.065668\n",
       "quality                 0.807569\n",
       "dtype: float64"
      ]
     },
     "execution_count": 38,
     "metadata": {},
     "output_type": "execute_result"
    }
   ],
   "source": [
    "df.describe().min()"
   ]
  },
  {
   "cell_type": "code",
   "execution_count": 40,
   "metadata": {},
   "outputs": [
    {
     "data": {
      "text/plain": [
       "fixed acidity            8.109819\n",
       "volatile acidity         0.523910\n",
       "citric acid              0.265488\n",
       "residual sugar           2.369403\n",
       "chlorides                0.083233\n",
       "free sulfur dioxide     14.937461\n",
       "total sulfur dioxide    42.233896\n",
       "density                  0.996748\n",
       "pH                       3.310557\n",
       "sulphates                0.639074\n",
       "alcohol                 10.311492\n",
       "quality                  5.818011\n",
       "dtype: float64"
      ]
     },
     "execution_count": 40,
     "metadata": {},
     "output_type": "execute_result"
    }
   ],
   "source": [
    "df.describe().median()"
   ]
  },
  {
   "cell_type": "code",
   "execution_count": 43,
   "metadata": {},
   "outputs": [
    {
     "data": {
      "text/plain": [
       "fixed acidity           1599.0\n",
       "volatile acidity        1599.0\n",
       "citric acid             1599.0\n",
       "residual sugar          1599.0\n",
       "chlorides               1599.0\n",
       "free sulfur dioxide     1599.0\n",
       "total sulfur dioxide    1599.0\n",
       "density                 1599.0\n",
       "pH                      1599.0\n",
       "sulphates               1599.0\n",
       "alcohol                 1599.0\n",
       "quality                 1599.0\n",
       "dtype: float64"
      ]
     },
     "execution_count": 43,
     "metadata": {},
     "output_type": "execute_result"
    }
   ],
   "source": [
    "df.describe().max()"
   ]
  }
 ],
 "metadata": {
  "kernelspec": {
   "display_name": "Python 3",
   "language": "python",
   "name": "python3"
  },
  "language_info": {
   "codemirror_mode": {
    "name": "ipython",
    "version": 3
   },
   "file_extension": ".py",
   "mimetype": "text/x-python",
   "name": "python",
   "nbconvert_exporter": "python",
   "pygments_lexer": "ipython3",
   "version": "3.6.5"
  }
 },
 "nbformat": 4,
 "nbformat_minor": 2
}
