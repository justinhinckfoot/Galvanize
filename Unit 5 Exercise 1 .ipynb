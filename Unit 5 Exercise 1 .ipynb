{
 "cells": [
  {
   "cell_type": "code",
   "execution_count": 5,
   "metadata": {},
   "outputs": [],
   "source": [
    "def calculate_series(n):\n",
    "    \"\"\"\n",
    "    calculate the nth value in the series:\n",
    "    a_i = 2 * a_(i-1) + 1\n",
    "    and where the initial value of the series, a_0, is initialized to 1.\n",
    "\n",
    "    Parameters\n",
    "    ----------\n",
    "    n: {int}\n",
    "\n",
    "    Returns\n",
    "    -------\n",
    "    a_n: {int} the nth series value\n",
    "    \"\"\"\n",
    "    for i in range(n):\n",
    "        a = 1\n",
    "        a = 2 * a + 1\n",
    "    return a"
   ]
  },
  {
   "cell_type": "code",
   "execution_count": 6,
   "metadata": {},
   "outputs": [
    {
     "data": {
      "text/plain": [
       "3"
      ]
     },
     "execution_count": 6,
     "metadata": {},
     "output_type": "execute_result"
    }
   ],
   "source": [
    "calculate_series(5)"
   ]
  },
  {
   "cell_type": "code",
   "execution_count": 7,
   "metadata": {},
   "outputs": [],
   "source": [
    "def get_divisors(n):\n",
    "    '''\n",
    "    This function calculates and returns all of the divisors of n, between 1 and\n",
    "    n, inclusive.\n",
    "\n",
    "    Parameters\n",
    "    ----------\n",
    "    n: {int}\n",
    "\n",
    "    Returns\n",
    "    -------\n",
    "    divisors: {list} all divisors of n in order from smallest to largest\n",
    "    '''\n",
    "    divisors = []\n",
    "    max = n+1\n",
    "    for i in range(1,max):\n",
    "        if n % i == 0:\n",
    "            divisors.append(i)\n",
    "    return(divisors)"
   ]
  },
  {
   "cell_type": "code",
   "execution_count": 8,
   "metadata": {},
   "outputs": [
    {
     "data": {
      "text/plain": [
       "[1, 2, 5, 10]"
      ]
     },
     "execution_count": 8,
     "metadata": {},
     "output_type": "execute_result"
    }
   ],
   "source": [
    "get_divisors(10)"
   ]
  },
  {
   "cell_type": "code",
   "execution_count": 13,
   "metadata": {},
   "outputs": [],
   "source": [
    "def factorial(n):\n",
    "    '''\n",
    "    Returns the factorial of the input integer:\n",
    "        n * (n - 1) * (n - 2) * ... * 2 * 1\n",
    "    Parameters\n",
    "    ----------\n",
    "    n: {int} number to compute factorial of (must be greater than 0)\n",
    "\n",
    "    Returns\n",
    "    -------\n",
    "    n!: {int} factorial of n\n",
    "\n",
    "    '''\n",
    "\n",
    "    for i in range(1,n):\n",
    "        n *= i    \n",
    "    return n"
   ]
  },
  {
   "cell_type": "code",
   "execution_count": 16,
   "metadata": {},
   "outputs": [
    {
     "data": {
      "text/plain": [
       "3628800"
      ]
     },
     "execution_count": 16,
     "metadata": {},
     "output_type": "execute_result"
    }
   ],
   "source": [
    "factorial(10)"
   ]
  },
  {
   "cell_type": "code",
   "execution_count": 17,
   "metadata": {},
   "outputs": [],
   "source": [
    "def is_prime(n):\n",
    "    '''\n",
    "    Return True if the input is prime, False otherwise\n",
    "    Parameters\n",
    "    ----------\n",
    "    n: {int} input integer\n",
    "\n",
    "    Returns\n",
    "    -------\n",
    "    is_prime: {bool} whether n is prime\n",
    "    '''\n",
    "    for i in range(2,n):\n",
    "        if n % i == 0:\n",
    "            return False\n",
    "    return True"
   ]
  },
  {
   "cell_type": "code",
   "execution_count": 18,
   "metadata": {},
   "outputs": [
    {
     "data": {
      "text/plain": [
       "True"
      ]
     },
     "execution_count": 18,
     "metadata": {},
     "output_type": "execute_result"
    }
   ],
   "source": [
    "is_prime(5)"
   ]
  },
  {
   "cell_type": "code",
   "execution_count": 19,
   "metadata": {},
   "outputs": [
    {
     "data": {
      "text/plain": [
       "False"
      ]
     },
     "execution_count": 19,
     "metadata": {},
     "output_type": "execute_result"
    }
   ],
   "source": [
    "is_prime(10)"
   ]
  },
  {
   "cell_type": "code",
   "execution_count": 20,
   "metadata": {},
   "outputs": [],
   "source": [
    "def next_perfect_square(n):\n",
    "    '''\n",
    "    Returns the next perfect square of the input number, if the input number\n",
    "    is not a perfect square, returns -1.\n",
    "    Ex:\n",
    "    next_perfect_square(10)\n",
    "    >>> -1\n",
    "    next_perfect_square(9)\n",
    "    >>> 16\n",
    "    next_perfect_square(25)\n",
    "    >>> 36\n",
    "    next_perfect_square(37)\n",
    "    >>> -1\n",
    "\n",
    "    Parameters\n",
    "    ----------\n",
    "    number: {int}\n",
    "\n",
    "    Returns\n",
    "    -------\n",
    "    next_perfect: {int} the next perfect square, or -1 if number is not a\n",
    "    perfect square\n",
    "    '''\n",
    "    if is_perfect_square(n) == True:\n",
    "        return (n + 1) ** 2\n",
    "    else:\n",
    "        return -1"
   ]
  },
  {
   "cell_type": "code",
   "execution_count": 21,
   "metadata": {},
   "outputs": [
    {
     "ename": "NameError",
     "evalue": "name 'is_perfect_square' is not defined",
     "output_type": "error",
     "traceback": [
      "\u001b[0;31m---------------------------------------------------------------------------\u001b[0m",
      "\u001b[0;31mNameError\u001b[0m                                 Traceback (most recent call last)",
      "\u001b[0;32m<ipython-input-21-c7924239fcea>\u001b[0m in \u001b[0;36m<module>\u001b[0;34m()\u001b[0m\n\u001b[0;32m----> 1\u001b[0;31m \u001b[0mnext_perfect_square\u001b[0m\u001b[0;34m(\u001b[0m\u001b[0;36m10\u001b[0m\u001b[0;34m)\u001b[0m\u001b[0;34m\u001b[0m\u001b[0m\n\u001b[0m",
      "\u001b[0;32m<ipython-input-20-d6cd12091935>\u001b[0m in \u001b[0;36mnext_perfect_square\u001b[0;34m(n)\u001b[0m\n\u001b[1;32m     22\u001b[0m     \u001b[0mperfect\u001b[0m \u001b[0msquare\u001b[0m\u001b[0;34m\u001b[0m\u001b[0m\n\u001b[1;32m     23\u001b[0m     '''\n\u001b[0;32m---> 24\u001b[0;31m     \u001b[0;32mif\u001b[0m \u001b[0mis_perfect_square\u001b[0m\u001b[0;34m(\u001b[0m\u001b[0mn\u001b[0m\u001b[0;34m)\u001b[0m \u001b[0;34m==\u001b[0m \u001b[0;32mTrue\u001b[0m\u001b[0;34m:\u001b[0m\u001b[0;34m\u001b[0m\u001b[0m\n\u001b[0m\u001b[1;32m     25\u001b[0m         \u001b[0;32mreturn\u001b[0m \u001b[0;34m(\u001b[0m\u001b[0mn\u001b[0m \u001b[0;34m+\u001b[0m \u001b[0;36m1\u001b[0m\u001b[0;34m)\u001b[0m \u001b[0;34m**\u001b[0m \u001b[0;36m2\u001b[0m\u001b[0;34m\u001b[0m\u001b[0m\n\u001b[1;32m     26\u001b[0m     \u001b[0;32melse\u001b[0m\u001b[0;34m:\u001b[0m\u001b[0;34m\u001b[0m\u001b[0m\n",
      "\u001b[0;31mNameError\u001b[0m: name 'is_perfect_square' is not defined"
     ]
    }
   ],
   "source": [
    "next_perfect_square(10)"
   ]
  },
  {
   "cell_type": "code",
   "execution_count": 25,
   "metadata": {},
   "outputs": [
    {
     "ename": "SyntaxError",
     "evalue": "invalid syntax (<ipython-input-25-5f0dc9f0cfda>, line 1)",
     "output_type": "error",
     "traceback": [
      "\u001b[0;36m  File \u001b[0;32m\"<ipython-input-25-5f0dc9f0cfda>\"\u001b[0;36m, line \u001b[0;32m1\u001b[0m\n\u001b[0;31m    random ?\u001b[0m\n\u001b[0m           ^\u001b[0m\n\u001b[0;31mSyntaxError\u001b[0m\u001b[0;31m:\u001b[0m invalid syntax\n"
     ]
    }
   ],
   "source": [
    "random ?"
   ]
  },
  {
   "cell_type": "code",
   "execution_count": 24,
   "metadata": {},
   "outputs": [
    {
     "ename": "SyntaxError",
     "evalue": "invalid syntax (<ipython-input-24-d6ef5d60f6d6>, line 1)",
     "output_type": "error",
     "traceback": [
      "\u001b[0;36m  File \u001b[0;32m\"<ipython-input-24-d6ef5d60f6d6>\"\u001b[0;36m, line \u001b[0;32m1\u001b[0m\n\u001b[0;31m    random.?\u001b[0m\n\u001b[0m           ^\u001b[0m\n\u001b[0;31mSyntaxError\u001b[0m\u001b[0;31m:\u001b[0m invalid syntax\n"
     ]
    }
   ],
   "source": [
    "random.?"
   ]
  }
 ],
 "metadata": {
  "kernelspec": {
   "display_name": "Python 3",
   "language": "python",
   "name": "python3"
  },
  "language_info": {
   "codemirror_mode": {
    "name": "ipython",
    "version": 3
   },
   "file_extension": ".py",
   "mimetype": "text/x-python",
   "name": "python",
   "nbconvert_exporter": "python",
   "pygments_lexer": "ipython3",
   "version": "3.6.5"
  }
 },
 "nbformat": 4,
 "nbformat_minor": 2
}
