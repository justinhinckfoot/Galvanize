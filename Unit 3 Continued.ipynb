{
 "cells": [
  {
   "cell_type": "code",
   "execution_count": 9,
   "metadata": {},
   "outputs": [
    {
     "name": "stdout",
     "output_type": "stream",
     "text": [
      "Enter a list of comma-separated values: one, two, three\n",
      "['one', 'two', 'three', 'three', 'two', 'one']\n"
     ]
    }
   ],
   "source": [
    "user_input = str(input('Enter a list of comma-separated values: '))\n",
    "user_list = user_input.split(', ')\n",
    "duplicate = list(user_list)\n",
    "\n",
    "duplicate.reverse()\n",
    "user_list.extend(duplicate)\n",
    "print(user_list)"
   ]
  },
  {
   "cell_type": "code",
   "execution_count": 12,
   "metadata": {},
   "outputs": [
    {
     "name": "stdout",
     "output_type": "stream",
     "text": [
      "Enter a list of comma-separated values: one, two, three\n",
      "['one', 'two', 'three', 'two', 'one']\n"
     ]
    }
   ],
   "source": [
    "user_input = str(input('Enter a list of comma-separated values: '))\n",
    "user_list = user_input.split(', ')\n",
    "duplicate = list(user_list[:-1])\n",
    "\n",
    "duplicate.reverse()\n",
    "\n",
    "user_list.extend(duplicate)\n",
    "print(user_list)"
   ]
  },
  {
   "cell_type": "code",
   "execution_count": 13,
   "metadata": {},
   "outputs": [
    {
     "name": "stdout",
     "output_type": "stream",
     "text": [
      "Enter a list of comma-separated values: one, two, three, four, five, six, seven\n",
      "['two', 'four', 'six']\n"
     ]
    }
   ],
   "source": [
    "user_input = str(input('Enter a list of comma-separated values: '))\n",
    "user_list = user_input.split(', ')\n",
    "\n",
    "print(user_list[1::2])"
   ]
  },
  {
   "cell_type": "code",
   "execution_count": 33,
   "metadata": {},
   "outputs": [
    {
     "name": "stdout",
     "output_type": "stream",
     "text": [
      "Enter a list of comma-separated values: one TWO, Three, FouR\n",
      "one two\n",
      "three\n",
      "four\n"
     ]
    }
   ],
   "source": [
    "user_input = str(input('Enter a list of comma-separated values: '))\n",
    "user_list = user_input.split(', ')\n",
    "\n",
    "lowercase = [print(string.lower()) for string in user_list]"
   ]
  },
  {
   "cell_type": "code",
   "execution_count": 37,
   "metadata": {},
   "outputs": [
    {
     "ename": "SyntaxError",
     "evalue": "invalid syntax (<ipython-input-37-c6be9ed4bc9e>, line 4)",
     "output_type": "error",
     "traceback": [
      "\u001b[0;36m  File \u001b[0;32m\"<ipython-input-37-c6be9ed4bc9e>\"\u001b[0;36m, line \u001b[0;32m4\u001b[0m\n\u001b[0;31m    for i in n\u001b[0m\n\u001b[0m              ^\u001b[0m\n\u001b[0;31mSyntaxError\u001b[0m\u001b[0;31m:\u001b[0m invalid syntax\n"
     ]
    }
   ],
   "source": [
    "n = int(input('Enter a value to compute its factorial: '))\n",
    "i = 1\n",
    "\n",
    "for i in n"
   ]
  },
  {
   "cell_type": "code",
   "execution_count": 43,
   "metadata": {},
   "outputs": [
    {
     "name": "stdout",
     "output_type": "stream",
     "text": [
      "Enter a value to compute its factorial: 5\n",
      "120\n"
     ]
    }
   ],
   "source": [
    "user_input = int(input('Enter a value to compute its factorial: '))\n",
    "total = 1\n",
    "\n",
    "while user_input > 0:\n",
    "    total *= user_input\n",
    "    user_input -= 1\n",
    "print(total)"
   ]
  },
  {
   "cell_type": "code",
   "execution_count": 48,
   "metadata": {},
   "outputs": [
    {
     "name": "stdout",
     "output_type": "stream",
     "text": [
      "Enter a value to compute its factorial: 5\n",
      "1\n"
     ]
    }
   ],
   "source": [
    "user_input = int(input('Enter a value to compute its factorial: '))\n",
    "total = 1\n",
    "\n",
    "for num in range(user_input,1):\n",
    "    num *= total\n",
    "print(total)"
   ]
  },
  {
   "cell_type": "code",
   "execution_count": 62,
   "metadata": {},
   "outputs": [
    {
     "name": "stdout",
     "output_type": "stream",
     "text": [
      "Enter a value to compute its factorial: 5\n",
      "120\n"
     ]
    }
   ],
   "source": [
    "user_input = int(input('Enter a value to compute its factorial: '))\n",
    "factorial_list = list(range(1,user_input))\n",
    "total = user_input\n",
    "\n",
    "for num in factorial_list:\n",
    "    total *= num\n",
    "print(total)"
   ]
  },
  {
   "cell_type": "code",
   "execution_count": 63,
   "metadata": {},
   "outputs": [
    {
     "data": {
      "text/plain": [
       "0"
      ]
     },
     "execution_count": 63,
     "metadata": {},
     "output_type": "execute_result"
    }
   ],
   "source": [
    "4 % 2"
   ]
  }
 ],
 "metadata": {
  "kernelspec": {
   "display_name": "Python 3",
   "language": "python",
   "name": "python3"
  },
  "language_info": {
   "codemirror_mode": {
    "name": "ipython",
    "version": 3
   },
   "file_extension": ".py",
   "mimetype": "text/x-python",
   "name": "python",
   "nbconvert_exporter": "python",
   "pygments_lexer": "ipython3",
   "version": "3.6.5"
  }
 },
 "nbformat": 4,
 "nbformat_minor": 2
}
