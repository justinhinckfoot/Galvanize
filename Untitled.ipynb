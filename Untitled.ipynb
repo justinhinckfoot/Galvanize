{
 "cells": [
  {
   "cell_type": "code",
   "execution_count": 49,
   "metadata": {},
   "outputs": [],
   "source": [
    "import numpy as py\n",
    "\n",
    "def elements_greater_than_mean(arr):\n",
    "    \"\"\"\n",
    "    Return a new array with the elements of the array\n",
    "    arr that are greater than its mean.\n",
    "\n",
    "    >>> elements_greater_than_mean(np.array([0.2, 0.8, 0.3, 0.6]))\n",
    "    array([0.8, 0.6])\n",
    "    \"\"\"\n",
    "    list = py.array(arr)\n",
    "    \n",
    "    output = list[list > py.mean(list)]\n",
    "    \n",
    "    return output"
   ]
  },
  {
   "cell_type": "code",
   "execution_count": 50,
   "metadata": {},
   "outputs": [
    {
     "data": {
      "text/plain": [
       "array([5., 3., 2., 2., 3.])"
      ]
     },
     "execution_count": 50,
     "metadata": {},
     "output_type": "execute_result"
    }
   ],
   "source": [
    "elements_greater_than_mean([0.3, 1, 5, 0.2, 3, 2, 1, 1, 2, 3, 0.5])"
   ]
  },
  {
   "cell_type": "code",
   "execution_count": 41,
   "metadata": {},
   "outputs": [],
   "source": [
    "py.mean?"
   ]
  },
  {
   "cell_type": "code",
   "execution_count": 9,
   "metadata": {},
   "outputs": [],
   "source": [
    "arr = py.arange(20)"
   ]
  },
  {
   "cell_type": "code",
   "execution_count": 10,
   "metadata": {},
   "outputs": [
    {
     "data": {
      "text/plain": [
       "array([ 8,  9, 10, 11, 12, 13, 14, 15, 16, 17, 18, 19])"
      ]
     },
     "execution_count": 10,
     "metadata": {},
     "output_type": "execute_result"
    }
   ],
   "source": [
    "arr[arr > 7]"
   ]
  },
  {
   "cell_type": "code",
   "execution_count": 58,
   "metadata": {},
   "outputs": [],
   "source": [
    "import numpy as np\n",
    "\n",
    "def elements_twice_min(arr):\n",
    "    \"\"\"\n",
    "    Return all elements of array arr that are greater than or equal to 2 times\n",
    "    the minimum element of arr.\n",
    "\n",
    "    Parameters\n",
    "    ----------\n",
    "    arr: NumPy array (n, m)\n",
    "\n",
    "    Returns\n",
    "    -------\n",
    "    NumPy Array, a vector of size between: 0 and (n * m) - 1\n",
    "    \"\"\"\n",
    "    list = np.array(arr)\n",
    "\n",
    "    output = list[list >= (np.min(list) * 2)]\n",
    "    \n",
    "    return output"
   ]
  },
  {
   "cell_type": "code",
   "execution_count": 60,
   "metadata": {},
   "outputs": [
    {
     "data": {
      "text/plain": [
       "array([ 2.,  3.,  4.,  1., 10.])"
      ]
     },
     "execution_count": 60,
     "metadata": {},
     "output_type": "execute_result"
    }
   ],
   "source": [
    "elements_twice_min([2, 3, 4, 1, 0.3, 10])"
   ]
  },
  {
   "cell_type": "code",
   "execution_count": 65,
   "metadata": {},
   "outputs": [],
   "source": [
    "import numpy as np\n",
    "\n",
    "def mat_addition(A, B):\n",
    "    \"\"\"\n",
    "    Add vector/matrix arrays A and B together. If they cannot be added\n",
    "    return False.\n",
    "\n",
    "    Parameters\n",
    "    ----------\n",
    "    A: NumPy array size of (n,) or (n, m)\n",
    "    B: NumPy array size of (p,) or (p, q)\n",
    "\n",
    "    Returns\n",
    "    -------\n",
    "    NumPy Array of same size as A and B, or False if their sizes differ.\n",
    "    \"\"\"\n",
    "    arrayA = np.array(A)\n",
    "    arrayB = np.array(B)\n",
    "\n",
    "    if np.size(A) != np.size(B):\n",
    "        return False\n",
    "    else:\n",
    "        return arrayA + arrayB"
   ]
  },
  {
   "cell_type": "code",
   "execution_count": 67,
   "metadata": {},
   "outputs": [
    {
     "data": {
      "text/plain": [
       "False"
      ]
     },
     "execution_count": 67,
     "metadata": {},
     "output_type": "execute_result"
    }
   ],
   "source": [
    "mat_addition([1, 2], [3, 4, 5])"
   ]
  },
  {
   "cell_type": "code",
   "execution_count": 87,
   "metadata": {},
   "outputs": [],
   "source": [
    "import numpy as np\n",
    "\n",
    "def mat_rank(X):\n",
    "    \"\"\"\n",
    "    Given a matrix X, return its rank.\n",
    "\n",
    "    Parameters\n",
    "    ----------\n",
    "    X: NumPy array size of (n, m)\n",
    "\n",
    "    Returns\n",
    "    -------\n",
    "    (int) the rank of X\n",
    "    \"\"\"\n",
    "\n",
    "    arrayX = np.array(X)\n",
    "\n",
    "    return np.linalg.matrix_rank(arrayX)"
   ]
  },
  {
   "cell_type": "code",
   "execution_count": 88,
   "metadata": {},
   "outputs": [
    {
     "data": {
      "text/plain": [
       "1"
      ]
     },
     "execution_count": 88,
     "metadata": {},
     "output_type": "execute_result"
    }
   ],
   "source": [
    "mat_rank([1, 5, 2, 4, 18, 0, 7])"
   ]
  },
  {
   "cell_type": "code",
   "execution_count": 97,
   "metadata": {},
   "outputs": [],
   "source": [
    "import numpy as np\n",
    "\n",
    "def xtx_product(a, b):\n",
    "    \"\"\"\n",
    "    Given a matrix X, calculate the inner product X^T X, where the ^T\n",
    "    operator denotes the transpose.\n",
    "\n",
    "    Parameters\n",
    "    ----------\n",
    "    X: NumPy array size of (n, m)\n",
    "\n",
    "    Returns\n",
    "    -------\n",
    "    NumPy Array of size (m, m)\n",
    "    \"\"\"\n",
    "    arrayA = np.array(a)\n",
    "    arrayB = np.array(b)\n",
    "\n",
    "    return np.inner(arrayA, arrayB)"
   ]
  },
  {
   "cell_type": "code",
   "execution_count": 99,
   "metadata": {},
   "outputs": [
    {
     "data": {
      "text/plain": [
       "14"
      ]
     },
     "execution_count": 99,
     "metadata": {},
     "output_type": "execute_result"
    }
   ],
   "source": [
    "xtx_product([1, 2, 1], [3, 4, 3])"
   ]
  }
 ],
 "metadata": {
  "kernelspec": {
   "display_name": "Python 3",
   "language": "python",
   "name": "python3"
  },
  "language_info": {
   "codemirror_mode": {
    "name": "ipython",
    "version": 3
   },
   "file_extension": ".py",
   "mimetype": "text/x-python",
   "name": "python",
   "nbconvert_exporter": "python",
   "pygments_lexer": "ipython3",
   "version": "3.6.5"
  }
 },
 "nbformat": 4,
 "nbformat_minor": 2
}
