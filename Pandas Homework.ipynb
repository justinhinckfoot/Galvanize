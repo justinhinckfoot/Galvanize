{
 "cells": [
  {
   "cell_type": "markdown",
   "metadata": {},
   "source": [
    "# Part 1\n",
    "## The basics of DataFrames\n",
    "### For this part you should\n",
    "1. Import Pandas\n",
    "2. Read the wine data into a DataFrame\n",
    "3. Use the attribute and methods available on DataFrames to answer:\n",
    "    - How many rows and columns are in the DataFrame?\n",
    "    - What data type is in each column?\n",
    "    - Are all of the variables continuous, or are any categorical?\n",
    "    - How many non-null values are in each column?\n",
    "    - What are the min, mean, max, median for all numeric columns?"
   ]
  },
  {
   "cell_type": "code",
   "execution_count": 9,
   "metadata": {},
   "outputs": [
    {
     "name": "stdout",
     "output_type": "stream",
     "text": [
      "winequality-red.csv  winequality-white.csv\r\n"
     ]
    }
   ],
   "source": [
    "%ls intro_ds-master/lessons/d05/data/"
   ]
  }
 ],
 "metadata": {
  "kernelspec": {
   "display_name": "Python 3",
   "language": "python",
   "name": "python3"
  },
  "language_info": {
   "codemirror_mode": {
    "name": "ipython",
    "version": 3
   },
   "file_extension": ".py",
   "mimetype": "text/x-python",
   "name": "python",
   "nbconvert_exporter": "python",
   "pygments_lexer": "ipython3",
   "version": "3.6.5"
  }
 },
 "nbformat": 4,
 "nbformat_minor": 2
}
