{
 "cells": [
  {
   "cell_type": "code",
   "execution_count": 10,
   "metadata": {},
   "outputs": [
    {
     "name": "stdout",
     "output_type": "stream",
     "text": [
      "Enter a value to view all positive divisors: 4\n",
      "1\n",
      "2\n"
     ]
    }
   ],
   "source": [
    "user_input = int(input('Enter a value to view all positive divisors: '))\n",
    "x = 1\n",
    "\n",
    "while user_input % x == 0:\n",
    "    print(x)\n",
    "    x += 1"
   ]
  },
  {
   "cell_type": "code",
   "execution_count": 4,
   "metadata": {},
   "outputs": [
    {
     "data": {
      "text/plain": [
       "1.0"
      ]
     },
     "execution_count": 4,
     "metadata": {},
     "output_type": "execute_result"
    }
   ],
   "source": [
    "4 / 4"
   ]
  },
  {
   "cell_type": "code",
   "execution_count": 8,
   "metadata": {},
   "outputs": [
    {
     "data": {
      "text/plain": [
       "0"
      ]
     },
     "execution_count": 8,
     "metadata": {},
     "output_type": "execute_result"
    }
   ],
   "source": [
    "4 % 4"
   ]
  },
  {
   "cell_type": "code",
   "execution_count": 11,
   "metadata": {},
   "outputs": [
    {
     "data": {
      "text/plain": [
       "int"
      ]
     },
     "execution_count": 11,
     "metadata": {},
     "output_type": "execute_result"
    }
   ],
   "source": [
    "type(x)"
   ]
  },
  {
   "cell_type": "code",
   "execution_count": 30,
   "metadata": {},
   "outputs": [
    {
     "name": "stdout",
     "output_type": "stream",
     "text": [
      "Enter a value to view all positive divisors: 4\n",
      "1\n",
      "2\n",
      "4\n"
     ]
    }
   ],
   "source": [
    "user_input = int(input('Enter a value to view all positive divisors: '))\n",
    "x = 1\n",
    "\n",
    "while user_input >= x:\n",
    "    if user_input % x == 0:\n",
    "        print(x)\n",
    "        x += 1\n",
    "    else:\n",
    "        x += 1"
   ]
  },
  {
   "cell_type": "code",
   "execution_count": 14,
   "metadata": {},
   "outputs": [
    {
     "data": {
      "text/plain": [
       "0"
      ]
     },
     "execution_count": 14,
     "metadata": {},
     "output_type": "execute_result"
    }
   ],
   "source": [
    "10 % 5"
   ]
  },
  {
   "cell_type": "code",
   "execution_count": 42,
   "metadata": {},
   "outputs": [
    {
     "name": "stdout",
     "output_type": "stream",
     "text": [
      "Please enter the first test value: 26\n",
      "Please enter the second test value: 13\n",
      "13\n"
     ]
    }
   ],
   "source": [
    "user_input = int(input('Please enter the first test value: '))\n",
    "second_user_input = int(input('Please enter the second test value: '))\n",
    "divisor = 1\n",
    "\n",
    "while divisor <= user_input or divisor <= second_user_input:\n",
    "    if user_input % divisor == 0 and second_user_input % divisor == 0:\n",
    "        gcd = divisor\n",
    "        divisor += 1\n",
    "    else:\n",
    "        divisor += 1\n",
    "print(gcd)"
   ]
  },
  {
   "cell_type": "code",
   "execution_count": 49,
   "metadata": {
    "scrolled": true
   },
   "outputs": [
    {
     "name": "stdout",
     "output_type": "stream",
     "text": [
      "Please enter the first test value: 2\n",
      "Please enter the second test value: 4\n",
      "1\n"
     ]
    }
   ],
   "source": [
    "user_input = int(input('Please enter the first test value: '))\n",
    "second_user_input = int(input('Please enter the second test value: '))\n",
    "multiple = 1\n",
    "lcm = 1\n",
    "\n",
    "if user_input > second_user_input:\n",
    "        multiple = user_input\n",
    "else:\n",
    "    multiple = second_user_input\n",
    "\n",
    "while multiple > 0:\n",
    "    if user_input % multiple == 0 and second_user_input % multiple == 0:\n",
    "        lcm = multiple\n",
    "        multiple -= 1\n",
    "    else:\n",
    "        multiple -= 1\n",
    "print(lcm)"
   ]
  },
  {
   "cell_type": "code",
   "execution_count": 66,
   "metadata": {},
   "outputs": [
    {
     "name": "stdout",
     "output_type": "stream",
     "text": [
      "Enter the length of the tail: 4\n",
      "---->\n"
     ]
    }
   ],
   "source": [
    "n = int(input('Enter the length of the tail: '))\n",
    "\n",
    "length = str('-') * n\n",
    "\n",
    "print(length + str('>'))"
   ]
  },
  {
   "cell_type": "code",
   "execution_count": 72,
   "metadata": {},
   "outputs": [
    {
     "name": "stdout",
     "output_type": "stream",
     "text": [
      "Enter a string to covert: test\n",
      "TEST\n"
     ]
    }
   ],
   "source": [
    "string = str(input('Enter a string to covert: '))\n",
    "\n",
    "print(string.upper())"
   ]
  },
  {
   "cell_type": "code",
   "execution_count": 76,
   "metadata": {},
   "outputs": [
    {
     "name": "stdout",
     "output_type": "stream",
     "text": [
      "Enter a string to convert: TEST\n",
      "test\n"
     ]
    }
   ],
   "source": [
    "string = str(input('Enter a string to convert: '))\n",
    "\n",
    "if string.isupper() == True:\n",
    "    print(string.lower())\n",
    "else:\n",
    "    print(string.upper() + '!!!')"
   ]
  },
  {
   "cell_type": "code",
   "execution_count": 78,
   "metadata": {},
   "outputs": [
    {
     "name": "stdout",
     "output_type": "stream",
     "text": [
      "Enter a string to convert: test!!!\n",
      "test.\n"
     ]
    }
   ],
   "source": [
    "string = str(input('Enter a string to convert: '))\n",
    "\n",
    "if string.endswith(\"!!!\"):\n",
    "    print(string.replace(\"!!!\",\".\"))\n",
    "else:\n",
    "    print(string)"
   ]
  },
  {
   "cell_type": "code",
   "execution_count": 82,
   "metadata": {},
   "outputs": [
    {
     "name": "stdout",
     "output_type": "stream",
     "text": [
      "Enter a string to test: testy\n",
      "String too short.\n"
     ]
    }
   ],
   "source": [
    "string = str(input('Enter a string to test: '))\n",
    "\n",
    "if len(string) < 6:\n",
    "    print('String too short.')\n",
    "else:\n",
    "    print(string[5])"
   ]
  },
  {
   "cell_type": "code",
   "execution_count": 84,
   "metadata": {},
   "outputs": [
    {
     "name": "stdout",
     "output_type": "stream",
     "text": [
      "Enter a string to test: Justin\n",
      "sti\n"
     ]
    }
   ],
   "source": [
    "string = str(input('Enter a string to test: '))\n",
    "\n",
    "if len(string) < 5:\n",
    "    print('String too short.')\n",
    "else:\n",
    "    print(string[2:5])"
   ]
  },
  {
   "cell_type": "code",
   "execution_count": 86,
   "metadata": {},
   "outputs": [
    {
     "name": "stdout",
     "output_type": "stream",
     "text": [
      "Enter a string to test: in\n",
      "n\n"
     ]
    }
   ],
   "source": [
    "string = str(input('Enter a string to test: '))\n",
    "\n",
    "if len(string) < 2:\n",
    "    print('String too short.')\n",
    "else:\n",
    "    print(string[1::2])"
   ]
  },
  {
   "cell_type": "code",
   "execution_count": 87,
   "metadata": {},
   "outputs": [
    {
     "name": "stdout",
     "output_type": "stream",
     "text": [
      "Enter a string to test: justin\n",
      "i\n"
     ]
    }
   ],
   "source": [
    "string = str(input('Enter a string to test: '))\n",
    "\n",
    "if len(string) < 2:\n",
    "    print('String too short.')\n",
    "else: \n",
    "    print(string[-2])"
   ]
  },
  {
   "cell_type": "code",
   "execution_count": 94,
   "metadata": {},
   "outputs": [
    {
     "name": "stdout",
     "output_type": "stream",
     "text": [
      "Enter a string to test: justin\n",
      "J\n",
      "S\n",
      "I\n"
     ]
    }
   ],
   "source": [
    "string = str(input('Enter a string to test: '))\n",
    "i = 0\n",
    "\n",
    "for i in string[::2]:\n",
    "    print(i.upper())"
   ]
  },
  {
   "cell_type": "code",
   "execution_count": 95,
   "metadata": {},
   "outputs": [
    {
     "name": "stdout",
     "output_type": "stream",
     "text": [
      "Enter your name: Justin\n",
      "Hello, Justin!\n"
     ]
    }
   ],
   "source": [
    "string = str(input('Enter your name: '))\n",
    "\n",
    "print('Hello, {}!'.format(string))"
   ]
  },
  {
   "cell_type": "code",
   "execution_count": 96,
   "metadata": {},
   "outputs": [
    {
     "name": "stdout",
     "output_type": "stream",
     "text": [
      "Enter a value to multiply: 2\n",
      "Two things 2 is 4.\n"
     ]
    }
   ],
   "source": [
    "number = int(input('Enter a value to multiply: '))\n",
    "double = number * 2\n",
    "\n",
    "print('Two things {} is {}.'.format(number,double))"
   ]
  },
  {
   "cell_type": "code",
   "execution_count": 98,
   "metadata": {},
   "outputs": [
    {
     "ename": "NameError",
     "evalue": "name 'pi' is not defined",
     "output_type": "error",
     "traceback": [
      "\u001b[0;31m---------------------------------------------------------------------------\u001b[0m",
      "\u001b[0;31mNameError\u001b[0m                                 Traceback (most recent call last)",
      "\u001b[0;32m<ipython-input-98-f84ab820532c>\u001b[0m in \u001b[0;36m<module>\u001b[0;34m()\u001b[0m\n\u001b[0;32m----> 1\u001b[0;31m \u001b[0mpi\u001b[0m\u001b[0;34m\u001b[0m\u001b[0m\n\u001b[0m",
      "\u001b[0;31mNameError\u001b[0m: name 'pi' is not defined"
     ]
    }
   ],
   "source": [
    "pi"
   ]
  },
  {
   "cell_type": "code",
   "execution_count": 100,
   "metadata": {},
   "outputs": [],
   "source": [
    "from math import pi"
   ]
  },
  {
   "cell_type": "code",
   "execution_count": 102,
   "metadata": {},
   "outputs": [
    {
     "data": {
      "text/plain": [
       "3.141592653589793"
      ]
     },
     "execution_count": 102,
     "metadata": {},
     "output_type": "execute_result"
    }
   ],
   "source": [
    "pi"
   ]
  },
  {
   "cell_type": "code",
   "execution_count": 124,
   "metadata": {},
   "outputs": [
    {
     "ename": "SyntaxError",
     "evalue": "invalid syntax (<ipython-input-124-60c7e0ac7e56>, line 1)",
     "output_type": "error",
     "traceback": [
      "\u001b[0;36m  File \u001b[0;32m\"<ipython-input-124-60c7e0ac7e56>\"\u001b[0;36m, line \u001b[0;32m1\u001b[0m\n\u001b[0;31m    print({pi:.10f})\u001b[0m\n\u001b[0m                 ^\u001b[0m\n\u001b[0;31mSyntaxError\u001b[0m\u001b[0;31m:\u001b[0m invalid syntax\n"
     ]
    }
   ],
   "source": [
    "print({pi:.10f})"
   ]
  },
  {
   "cell_type": "code",
   "execution_count": 125,
   "metadata": {},
   "outputs": [
    {
     "ename": "SyntaxError",
     "evalue": "invalid syntax (<ipython-input-125-38da6b2e4402>, line 1)",
     "output_type": "error",
     "traceback": [
      "\u001b[0;36m  File \u001b[0;32m\"<ipython-input-125-38da6b2e4402>\"\u001b[0;36m, line \u001b[0;32m1\u001b[0m\n\u001b[0;31m    my_lst.\u001b[0m\n\u001b[0m           ^\u001b[0m\n\u001b[0;31mSyntaxError\u001b[0m\u001b[0;31m:\u001b[0m invalid syntax\n"
     ]
    }
   ],
   "source": [
    "my_lst."
   ]
  },
  {
   "cell_type": "code",
   "execution_count": 23,
   "metadata": {},
   "outputs": [
    {
     "name": "stdout",
     "output_type": "stream",
     "text": [
      "Enter a list of comma-separated values: one, two, three, two, three, three\n",
      "Enter a value to count from list: three\n",
      "3\n",
      "2\n"
     ]
    }
   ],
   "source": [
    "string = str(input('Enter a list of comma-separated values: '))\n",
    "lookup = str(input('Enter a value to count from list: '))\n",
    "list = string.split(', ')\n",
    "\n",
    "print(list.count(lookup))\n",
    "print(list.count(list[1]))"
   ]
  },
  {
   "cell_type": "code",
   "execution_count": 30,
   "metadata": {},
   "outputs": [
    {
     "name": "stdout",
     "output_type": "stream",
     "text": [
      "Enter a list of command-separated values: one, two, three\n",
      "['one', 'two', 'three', 'one']\n"
     ]
    }
   ],
   "source": [
    "user_input = str(input('Enter a list of command-separated values: '))\n",
    "list = user_input.split(', ')\n",
    "\n",
    "list.append(list[0])\n",
    "print(list)"
   ]
  },
  {
   "cell_type": "code",
   "execution_count": 49,
   "metadata": {},
   "outputs": [
    {
     "name": "stdout",
     "output_type": "stream",
     "text": [
      "Enter a list of comma-separated values: one, two, three\n"
     ]
    },
    {
     "ename": "TypeError",
     "evalue": "'list' object is not callable",
     "output_type": "error",
     "traceback": [
      "\u001b[0;31m---------------------------------------------------------------------------\u001b[0m",
      "\u001b[0;31mTypeError\u001b[0m                                 Traceback (most recent call last)",
      "\u001b[0;32m<ipython-input-49-36f7efaef89f>\u001b[0m in \u001b[0;36m<module>\u001b[0;34m()\u001b[0m\n\u001b[1;32m      1\u001b[0m \u001b[0muser_input\u001b[0m \u001b[0;34m=\u001b[0m \u001b[0mstr\u001b[0m\u001b[0;34m(\u001b[0m\u001b[0minput\u001b[0m\u001b[0;34m(\u001b[0m\u001b[0;34m'Enter a list of comma-separated values: '\u001b[0m\u001b[0;34m)\u001b[0m\u001b[0;34m)\u001b[0m\u001b[0;34m\u001b[0m\u001b[0m\n\u001b[1;32m      2\u001b[0m \u001b[0muser_list\u001b[0m \u001b[0;34m=\u001b[0m \u001b[0muser_input\u001b[0m\u001b[0;34m.\u001b[0m\u001b[0msplit\u001b[0m\u001b[0;34m(\u001b[0m\u001b[0;34m', '\u001b[0m\u001b[0;34m)\u001b[0m\u001b[0;34m\u001b[0m\u001b[0m\n\u001b[0;32m----> 3\u001b[0;31m \u001b[0mduplicate\u001b[0m \u001b[0;34m=\u001b[0m \u001b[0mlist\u001b[0m\u001b[0;34m(\u001b[0m\u001b[0muser_list\u001b[0m\u001b[0;34m)\u001b[0m\u001b[0;34m\u001b[0m\u001b[0m\n\u001b[0m\u001b[1;32m      4\u001b[0m \u001b[0;34m\u001b[0m\u001b[0m\n\u001b[1;32m      5\u001b[0m \u001b[0mprint\u001b[0m\u001b[0;34m(\u001b[0m\u001b[0muser_list\u001b[0m\u001b[0;34m)\u001b[0m\u001b[0;34m\u001b[0m\u001b[0m\n",
      "\u001b[0;31mTypeError\u001b[0m: 'list' object is not callable"
     ]
    }
   ],
   "source": [
    "user_input = str(input('Enter a list of comma-separated values: '))\n",
    "user_list = user_input.split(', ')\n",
    "duplicate = list(user_list)\n",
    "\n",
    "print(user_list)\n",
    "print(duplicate)"
   ]
  },
  {
   "cell_type": "code",
   "execution_count": null,
   "metadata": {},
   "outputs": [],
   "source": []
  }
 ],
 "metadata": {
  "kernelspec": {
   "display_name": "Python 3",
   "language": "python",
   "name": "python3"
  },
  "language_info": {
   "codemirror_mode": {
    "name": "ipython",
    "version": 3
   },
   "file_extension": ".py",
   "mimetype": "text/x-python",
   "name": "python",
   "nbconvert_exporter": "python",
   "pygments_lexer": "ipython3",
   "version": "3.6.5"
  }
 },
 "nbformat": 4,
 "nbformat_minor": 2
}
